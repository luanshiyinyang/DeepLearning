{
 "cells": [
  {
   "cell_type": "code",
   "execution_count": 1,
   "metadata": {},
   "outputs": [],
   "source": [
    "import tensorflow as tf\n",
    "from tensorflow.examples.tutorials.mnist import input_data"
   ]
  },
  {
   "cell_type": "code",
   "execution_count": 2,
   "metadata": {},
   "outputs": [
    {
     "name": "stdout",
     "output_type": "stream",
     "text": [
      "Extracting Data/mnist/train-images-idx3-ubyte.gz\n",
      "Extracting Data/mnist/train-labels-idx1-ubyte.gz\n",
      "Extracting Data/mnist/t10k-images-idx3-ubyte.gz\n",
      "Extracting Data/mnist/t10k-labels-idx1-ubyte.gz\n"
     ]
    }
   ],
   "source": [
    "mnist = input_data.read_data_sets('Data/mnist', one_hot=True)"
   ]
  },
  {
   "cell_type": "code",
   "execution_count": 3,
   "metadata": {},
   "outputs": [],
   "source": [
    "n_classes = 10\n",
    "input_size = 784\n",
    "\n",
    "x = tf.placeholder(tf.float32, shape=[None, input_size])\n",
    "y = tf.placeholder(tf.float32, shape=[None, n_classes])\n",
    "keep_prob = tf.placeholder(tf.float32)"
   ]
  },
  {
   "cell_type": "code",
   "execution_count": 4,
   "metadata": {},
   "outputs": [],
   "source": [
    "def weight_variable(shape, name='undefined'):\n",
    "    initial = tf.truncated_normal(shape, stddev=0.1)\n",
    "    return tf.Variable(initial, name=name)\n",
    "\n",
    "def bias_variable(shape, name='undefined'):\n",
    "    initial = tf.constant(0.1, shape=shape)\n",
    "    return tf.Variable(initial, name=name)\n",
    "\n",
    "def conv2d(x, W):\n",
    "    return tf.nn.conv2d(x, W, strides=[1, 1, 1, 1], padding='SAME')\n",
    "\n",
    "def max_pool_2x2(x):\n",
    "    return tf.nn.max_pool(x, ksize=[1, 2, 2, 1], strides=[1, 2, 2, 1], padding='SAME')"
   ]
  },
  {
   "cell_type": "code",
   "execution_count": 5,
   "metadata": {},
   "outputs": [],
   "source": [
    "x_image = tf.reshape(x, [-1,28,28,1])\n",
    "\n",
    "W_conv1 = weight_variable([7, 7, 1, 100], name='1st_layer_weights')\n",
    "b_conv1 = bias_variable([100], name='1st_layer_bias')\n",
    "h_conv1 = tf.nn.relu(conv2d(x_image, W_conv1) + b_conv1)\n",
    "h_pool1 = max_pool_2x2(h_conv1) \n",
    "\n",
    "W_conv2 = weight_variable([4, 4, 100, 150])\n",
    "b_conv2 = bias_variable([150])\n",
    "h_conv2 = tf.nn.relu(conv2d(h_pool1, W_conv2) + b_conv2)\n",
    "h_pool2 = max_pool_2x2(h_conv2)\n",
    "\n",
    "W_conv3 = weight_variable([4, 4, 150, 250])\n",
    "b_conv3 = bias_variable([250])\n",
    "h_conv3 = tf.nn.relu(conv2d(h_pool2, W_conv3) + b_conv3)\n",
    "h_pool3 = max_pool_2x2(h_conv3)\n",
    "\n",
    "W_fc1 = weight_variable([4 * 4 * 250, 300])\n",
    "b_fc1 = bias_variable([300])\n",
    "h_pool3_flat = tf.reshape(h_pool3, [-1, 4*4*250])\n",
    "h_fc1 = tf.nn.relu(tf.matmul(h_pool3_flat, W_fc1) + b_fc1)\n",
    "h_fc1_drop = tf.nn.dropout(h_fc1, keep_prob)\n",
    "\n",
    "W_fc2 = weight_variable([300, n_classes])\n",
    "b_fc2 = bias_variable([n_classes])\n",
    "y_pred = tf.matmul(h_fc1_drop, W_fc2) + b_fc2\n",
    "\n",
    "diff = tf.nn.softmax_cross_entropy_with_logits(labels=y, logits=y_pred)\n",
    "cross_entropy = tf.reduce_mean(diff)\n",
    "correct_prediction = tf.equal(tf.argmax(y_pred, 1), tf.argmax(y, 1))\n",
    "accuracy = tf.reduce_mean(tf.cast(correct_prediction, tf.float32))"
   ]
  },
  {
   "cell_type": "code",
   "execution_count": 6,
   "metadata": {},
   "outputs": [
    {
     "name": "stdout",
     "output_type": "stream",
     "text": [
      "<tf.Variable '1st_layer_weights:0' shape=(7, 7, 1, 100) dtype=float32_ref>\n",
      "<tf.Variable '1st_layer_bias:0' shape=(100,) dtype=float32_ref>\n",
      "<tf.Variable 'undefined:0' shape=(4, 4, 100, 150) dtype=float32_ref>\n",
      "<tf.Variable 'undefined_1:0' shape=(150,) dtype=float32_ref>\n",
      "<tf.Variable 'undefined_2:0' shape=(4, 4, 150, 250) dtype=float32_ref>\n",
      "<tf.Variable 'undefined_3:0' shape=(250,) dtype=float32_ref>\n",
      "<tf.Variable 'undefined_4:0' shape=(4000, 300) dtype=float32_ref>\n",
      "<tf.Variable 'undefined_5:0' shape=(300,) dtype=float32_ref>\n",
      "<tf.Variable 'undefined_6:0' shape=(300, 10) dtype=float32_ref>\n",
      "<tf.Variable 'undefined_7:0' shape=(10,) dtype=float32_ref>\n"
     ]
    }
   ],
   "source": [
    "trainable_vars = tf.trainable_variables()\n",
    "\n",
    "for i in range(len(trainable_vars)):\n",
    "    print(trainable_vars[i])"
   ]
  },
  {
   "cell_type": "code",
   "execution_count": 7,
   "metadata": {},
   "outputs": [],
   "source": [
    "vars_train = [var for var in trainable_vars if '1st_' in var.name]\n",
    "\n",
    "learning_rate = 0.001\n",
    "train_step = tf.train.AdamOptimizer(learning_rate).minimize(cross_entropy, var_list=vars_train)"
   ]
  },
  {
   "cell_type": "code",
   "execution_count": 8,
   "metadata": {},
   "outputs": [
    {
     "name": "stdout",
     "output_type": "stream",
     "text": [
      "Step 0000: train_acc: 0.1016\n",
      "Step 0001: train_acc: 0.1328\n",
      "Step 0002: train_acc: 0.0938\n",
      "Step 0003: train_acc: 0.0938\n",
      "Step 0004: train_acc: 0.1094\n",
      "Step 0005: train_acc: 0.0547\n",
      "Step 0006: train_acc: 0.1016\n",
      "Step 0007: train_acc: 0.1016\n",
      "Step 0008: train_acc: 0.1172\n",
      "Step 0009: train_acc: 0.0781\n"
     ]
    }
   ],
   "source": [
    "n_steps = 10\n",
    "batch_size = 128\n",
    "dropout = 0.25\n",
    "evaluate_every = 10\n",
    "\n",
    "sess = tf.InteractiveSession()\n",
    "tf.global_variables_initializer().run()\n",
    "for i in range(n_steps):\n",
    "    x_batch, y_batch = mnist.train.next_batch(batch_size)\n",
    "    _, train_acc = sess.run([train_step, accuracy], feed_dict={x: x_batch, y: y_batch, keep_prob: dropout})\n",
    "    print('Step {:04.0f}: train_acc: {:.4f}'.format(i, train_acc))"
   ]
  }
 ],
 "metadata": {
  "kernelspec": {
   "display_name": "Python 3",
   "language": "python",
   "name": "python3"
  },
  "language_info": {
   "codemirror_mode": {
    "name": "ipython",
    "version": 3
   },
   "file_extension": ".py",
   "mimetype": "text/x-python",
   "name": "python",
   "nbconvert_exporter": "python",
   "pygments_lexer": "ipython3",
   "version": "3.6.8"
  },
  "widgets": {
   "state": {},
   "version": "1.1.2"
  }
 },
 "nbformat": 4,
 "nbformat_minor": 2
}
