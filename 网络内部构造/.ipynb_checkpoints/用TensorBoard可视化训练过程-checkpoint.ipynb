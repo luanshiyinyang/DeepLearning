{
 "cells": [
  {
   "cell_type": "code",
   "execution_count": 1,
   "metadata": {},
   "outputs": [],
   "source": [
    "import tensorflow as tf\n",
    "from tensorflow.examples.tutorials.mnist import input_data"
   ]
  },
  {
   "cell_type": "code",
   "execution_count": 2,
   "metadata": {},
   "outputs": [
    {
     "name": "stdout",
     "output_type": "stream",
     "text": [
      "Extracting Data/fashion/train-images-idx3-ubyte.gz\n",
      "Extracting Data/fashion/train-labels-idx1-ubyte.gz\n",
      "Extracting Data/fashion/t10k-images-idx3-ubyte.gz\n",
      "Extracting Data/fashion/t10k-labels-idx1-ubyte.gz\n"
     ]
    }
   ],
   "source": [
    "mnist = input_data.read_data_sets('Data/fashion', one_hot=True)"
   ]
  },
  {
   "cell_type": "code",
   "execution_count": 3,
   "metadata": {},
   "outputs": [],
   "source": [
    "n_classes = 10\n",
    "input_size = 784\n",
    "\n",
    "x = tf.placeholder(tf.float32, shape=[None, input_size])\n",
    "y = tf.placeholder(tf.float32, shape=[None, n_classes])"
   ]
  },
  {
   "cell_type": "code",
   "execution_count": 4,
   "metadata": {},
   "outputs": [],
   "source": [
    "def weight_variable(shape):\n",
    "    initial = tf.truncated_normal(shape, stddev=0.1)\n",
    "    return tf.Variable(initial)"
   ]
  },
  {
   "cell_type": "code",
   "execution_count": 5,
   "metadata": {},
   "outputs": [],
   "source": [
    "def bias_variable(shape):\n",
    "    initial = tf.constant(0.1, shape=shape)\n",
    "    return tf.Variable(initial)"
   ]
  },
  {
   "cell_type": "code",
   "execution_count": 6,
   "metadata": {},
   "outputs": [],
   "source": [
    "def conv2d(x, W):\n",
    "    return tf.nn.conv2d(x, W, strides=[1, 1, 1, 1], padding='SAME')\n",
    "\n",
    "def max_pool_2x2(x):\n",
    "    return tf.nn.max_pool(x, ksize=[1, 2, 2, 1], strides=[1, 2, 2, 1], padding='SAME')"
   ]
  },
  {
   "cell_type": "code",
   "execution_count": 7,
   "metadata": {},
   "outputs": [],
   "source": [
    "W_conv1 = weight_variable([7, 7, 1, 100])\n",
    "b_conv1 = bias_variable([100])\n",
    "x_image = tf.reshape(x, [-1,28,28,1])\n",
    "h_conv1 = tf.nn.relu(conv2d(x_image, W_conv1) + b_conv1)\n",
    "h_pool1 = max_pool_2x2(h_conv1)\n",
    "\n",
    "W_conv2 = weight_variable([4, 4, 100, 150])\n",
    "b_conv2 = bias_variable([150])\n",
    "h_conv2 = tf.nn.relu(conv2d(h_pool1, W_conv2) + b_conv2)\n",
    "h_pool2 = max_pool_2x2(h_conv2)\n",
    "\n",
    "W_conv3 = weight_variable([4, 4, 150, 250])\n",
    "b_conv3 = bias_variable([250])\n",
    "h_conv3 = tf.nn.relu(conv2d(h_pool2, W_conv3) + b_conv3)\n",
    "h_pool3 = max_pool_2x2(h_conv3)\n",
    "\n",
    "W_fc1 = weight_variable([4 * 4 * 250, 300])\n",
    "b_fc1 = bias_variable([300])\n",
    "h_pool3_flat = tf.reshape(h_pool3, [-1, 4*4*250])\n",
    "h_fc1 = tf.nn.relu(tf.matmul(h_pool3_flat, W_fc1) + b_fc1)\n",
    "keep_prob = tf.placeholder(tf.float32)\n",
    "h_fc1_drop = tf.nn.dropout(h_fc1, keep_prob)\n",
    "\n",
    "W_fc2 = weight_variable([300, n_classes])\n",
    "b_fc2 = bias_variable([n_classes])\n",
    "y_pred = tf.matmul(h_fc1_drop, W_fc2) + b_fc2"
   ]
  },
  {
   "cell_type": "code",
   "execution_count": 8,
   "metadata": {},
   "outputs": [
    {
     "data": {
      "text/plain": [
       "<tf.Tensor 'cross_entropy_1:0' shape=() dtype=string>"
      ]
     },
     "execution_count": 8,
     "metadata": {},
     "output_type": "execute_result"
    }
   ],
   "source": [
    "with tf.name_scope('cross_entropy'):\n",
    "    diff = tf.nn.softmax_cross_entropy_with_logits(labels=y, logits=y_pred)\n",
    "    with tf.name_scope('total'):\n",
    "        cross_entropy = tf.reduce_mean(diff)\n",
    "tf.summary.scalar('cross_entropy', cross_entropy)"
   ]
  },
  {
   "cell_type": "code",
   "execution_count": 9,
   "metadata": {},
   "outputs": [],
   "source": [
    "learning_rate = 0.001\n",
    "train_step = tf.train.AdamOptimizer(learning_rate).minimize(cross_entropy)"
   ]
  },
  {
   "cell_type": "code",
   "execution_count": 10,
   "metadata": {},
   "outputs": [
    {
     "data": {
      "text/plain": [
       "<tf.Tensor 'accuracy_1:0' shape=() dtype=string>"
      ]
     },
     "execution_count": 10,
     "metadata": {},
     "output_type": "execute_result"
    }
   ],
   "source": [
    "with tf.name_scope('accuracy'):\n",
    "    correct_prediction = tf.equal(tf.argmax(y_pred, 1), tf.argmax(y, 1))\n",
    "    accuracy = tf.reduce_mean(tf.cast(correct_prediction, tf.float32))\n",
    "tf.summary.scalar('accuracy', accuracy)"
   ]
  },
  {
   "cell_type": "code",
   "execution_count": 11,
   "metadata": {},
   "outputs": [],
   "source": [
    "sess = tf.InteractiveSession()"
   ]
  },
  {
   "cell_type": "code",
   "execution_count": 12,
   "metadata": {},
   "outputs": [],
   "source": [
    "log_dir = 'tensorboard-example'\n",
    "merged = tf.summary.merge_all()\n",
    "train_writer = tf.summary.FileWriter(log_dir + '/train', sess.graph)\n",
    "val_writer = tf.summary.FileWriter(log_dir + '/val')"
   ]
  },
  {
   "cell_type": "code",
   "execution_count": 13,
   "metadata": {},
   "outputs": [],
   "source": [
    "n_steps = 1000\n",
    "batch_size = 128\n",
    "dropout = 0.25\n",
    "evaluate_every = 10"
   ]
  },
  {
   "cell_type": "code",
   "execution_count": 14,
   "metadata": {},
   "outputs": [
    {
     "name": "stdout",
     "output_type": "stream",
     "text": [
      "Step 0000: train_acc: 0.0859; val_acc 0.1059\n",
      "Step 0010: train_acc: 0.1875; val_acc 0.2501\n",
      "Step 0020: train_acc: 0.2891; val_acc 0.4308\n",
      "Step 0030: train_acc: 0.3047; val_acc 0.5382\n",
      "Step 0040: train_acc: 0.2969; val_acc 0.5935\n",
      "Step 0050: train_acc: 0.3594; val_acc 0.6508\n",
      "Step 0060: train_acc: 0.3906; val_acc 0.7190\n",
      "Step 0070: train_acc: 0.5391; val_acc 0.7807\n",
      "Step 0080: train_acc: 0.4453; val_acc 0.7512\n",
      "Step 0090: train_acc: 0.4531; val_acc 0.8275\n",
      "Step 0100: train_acc: 0.5156; val_acc 0.8557\n",
      "Step 0110: train_acc: 0.5625; val_acc 0.8590\n",
      "Step 0120: train_acc: 0.5625; val_acc 0.8924\n",
      "Step 0130: train_acc: 0.5078; val_acc 0.9051\n",
      "Step 0140: train_acc: 0.5234; val_acc 0.9186\n",
      "Step 0150: train_acc: 0.5938; val_acc 0.9269\n",
      "Step 0160: train_acc: 0.6406; val_acc 0.9181\n",
      "Step 0170: train_acc: 0.6562; val_acc 0.9280\n",
      "Step 0180: train_acc: 0.6562; val_acc 0.9227\n",
      "Step 0190: train_acc: 0.7578; val_acc 0.9310\n",
      "Step 0200: train_acc: 0.6250; val_acc 0.9404\n",
      "Step 0210: train_acc: 0.6875; val_acc 0.9322\n",
      "Step 0220: train_acc: 0.6719; val_acc 0.9424\n",
      "Step 0230: train_acc: 0.7031; val_acc 0.9470\n",
      "Step 0240: train_acc: 0.7109; val_acc 0.9486\n",
      "Step 0250: train_acc: 0.7109; val_acc 0.9461\n",
      "Step 0260: train_acc: 0.8047; val_acc 0.9507\n",
      "Step 0270: train_acc: 0.7500; val_acc 0.9446\n",
      "Step 0280: train_acc: 0.7344; val_acc 0.9517\n",
      "Step 0290: train_acc: 0.8359; val_acc 0.9514\n",
      "Step 0300: train_acc: 0.7578; val_acc 0.9584\n",
      "Step 0310: train_acc: 0.7891; val_acc 0.9590\n",
      "Step 0320: train_acc: 0.7891; val_acc 0.9583\n",
      "Step 0330: train_acc: 0.8125; val_acc 0.9590\n",
      "Step 0340: train_acc: 0.8516; val_acc 0.9574\n",
      "Step 0350: train_acc: 0.8359; val_acc 0.9564\n",
      "Step 0360: train_acc: 0.7969; val_acc 0.9630\n",
      "Step 0370: train_acc: 0.8438; val_acc 0.9574\n",
      "Step 0380: train_acc: 0.8516; val_acc 0.9633\n",
      "Step 0390: train_acc: 0.8828; val_acc 0.9677\n",
      "Step 0400: train_acc: 0.8672; val_acc 0.9684\n",
      "Step 0410: train_acc: 0.8516; val_acc 0.9655\n",
      "Step 0420: train_acc: 0.8438; val_acc 0.9656\n",
      "Step 0430: train_acc: 0.8984; val_acc 0.9689\n",
      "Step 0440: train_acc: 0.8281; val_acc 0.9617\n",
      "Step 0450: train_acc: 0.8359; val_acc 0.9672\n",
      "Step 0460: train_acc: 0.8594; val_acc 0.9707\n",
      "Step 0470: train_acc: 0.8672; val_acc 0.9680\n",
      "Step 0480: train_acc: 0.7812; val_acc 0.9702\n",
      "Step 0490: train_acc: 0.8750; val_acc 0.9719\n",
      "Step 0500: train_acc: 0.8672; val_acc 0.9710\n",
      "Step 0510: train_acc: 0.8750; val_acc 0.9712\n",
      "Step 0520: train_acc: 0.8750; val_acc 0.9703\n",
      "Step 0530: train_acc: 0.8594; val_acc 0.9727\n",
      "Step 0540: train_acc: 0.8594; val_acc 0.9701\n",
      "Step 0550: train_acc: 0.8594; val_acc 0.9713\n",
      "Step 0560: train_acc: 0.8984; val_acc 0.9709\n",
      "Step 0570: train_acc: 0.8828; val_acc 0.9716\n",
      "Step 0580: train_acc: 0.8906; val_acc 0.9721\n",
      "Step 0590: train_acc: 0.9375; val_acc 0.9746\n",
      "Step 0600: train_acc: 0.8984; val_acc 0.9736\n",
      "Step 0610: train_acc: 0.8906; val_acc 0.9742\n",
      "Step 0620: train_acc: 0.8984; val_acc 0.9697\n",
      "Step 0630: train_acc: 0.8906; val_acc 0.9746\n",
      "Step 0640: train_acc: 0.9062; val_acc 0.9765\n",
      "Step 0650: train_acc: 0.8828; val_acc 0.9753\n",
      "Step 0660: train_acc: 0.8906; val_acc 0.9766\n",
      "Step 0670: train_acc: 0.9062; val_acc 0.9767\n",
      "Step 0680: train_acc: 0.9141; val_acc 0.9755\n",
      "Step 0690: train_acc: 0.9141; val_acc 0.9748\n",
      "Step 0700: train_acc: 0.8828; val_acc 0.9761\n",
      "Step 0710: train_acc: 0.8984; val_acc 0.9759\n",
      "Step 0720: train_acc: 0.8984; val_acc 0.9766\n",
      "Step 0730: train_acc: 0.9297; val_acc 0.9773\n",
      "Step 0740: train_acc: 0.9297; val_acc 0.9799\n",
      "Step 0750: train_acc: 0.9375; val_acc 0.9732\n",
      "Step 0760: train_acc: 0.9375; val_acc 0.9797\n",
      "Step 0770: train_acc: 0.9219; val_acc 0.9801\n",
      "Step 0780: train_acc: 0.9141; val_acc 0.9792\n",
      "Step 0790: train_acc: 0.9297; val_acc 0.9789\n",
      "Step 0800: train_acc: 0.9297; val_acc 0.9787\n",
      "Step 0810: train_acc: 0.9219; val_acc 0.9766\n",
      "Step 0820: train_acc: 0.8984; val_acc 0.9807\n",
      "Step 0830: train_acc: 0.9688; val_acc 0.9788\n",
      "Step 0840: train_acc: 0.9297; val_acc 0.9799\n",
      "Step 0850: train_acc: 0.9219; val_acc 0.9797\n",
      "Step 0860: train_acc: 0.9453; val_acc 0.9801\n",
      "Step 0870: train_acc: 0.9141; val_acc 0.9809\n",
      "Step 0880: train_acc: 0.9609; val_acc 0.9801\n",
      "Step 0890: train_acc: 0.9062; val_acc 0.9798\n",
      "Step 0900: train_acc: 0.9531; val_acc 0.9804\n",
      "Step 0910: train_acc: 0.9609; val_acc 0.9797\n",
      "Step 0920: train_acc: 0.9141; val_acc 0.9793\n",
      "Step 0930: train_acc: 0.9531; val_acc 0.9816\n",
      "Step 0940: train_acc: 0.9531; val_acc 0.9821\n",
      "Step 0950: train_acc: 0.9531; val_acc 0.9824\n",
      "Step 0960: train_acc: 0.9062; val_acc 0.9820\n",
      "Step 0970: train_acc: 0.9688; val_acc 0.9815\n",
      "Step 0980: train_acc: 0.9609; val_acc 0.9823\n",
      "Step 0990: train_acc: 0.9375; val_acc 0.9819\n"
     ]
    }
   ],
   "source": [
    "tf.global_variables_initializer().run()\n",
    "for i in range(n_steps):\n",
    "    x_batch, y_batch = mnist.train.next_batch(batch_size)\n",
    "    summary, _, train_acc = sess.run([merged, train_step, accuracy], feed_dict={x: x_batch, y: y_batch, keep_prob: dropout})\n",
    "    train_writer.add_summary(summary, i)\n",
    "    \n",
    "    if i % evaluate_every == 0:\n",
    "        summary, val_acc = sess.run([merged, accuracy], feed_dict={x: mnist.test.images, y: mnist.test.labels, keep_prob: 1.0})\n",
    "        val_writer.add_summary(summary, i)\n",
    "        print('Step {:04.0f}: train_acc: {:.4f}; val_acc {:.4f}'.format(i, train_acc, val_acc))\n",
    "train_writer.close()\n",
    "val_writer.close()"
   ]
  }
 ],
 "metadata": {
  "kernelspec": {
   "display_name": "Python 3",
   "language": "python",
   "name": "python3"
  },
  "language_info": {
   "codemirror_mode": {
    "name": "ipython",
    "version": 3
   },
   "file_extension": ".py",
   "mimetype": "text/x-python",
   "name": "python",
   "nbconvert_exporter": "python",
   "pygments_lexer": "ipython3",
   "version": "3.6.8"
  },
  "widgets": {
   "state": {},
   "version": "1.1.2"
  }
 },
 "nbformat": 4,
 "nbformat_minor": 2
}
