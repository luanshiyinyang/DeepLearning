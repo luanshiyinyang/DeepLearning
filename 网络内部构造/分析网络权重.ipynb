{
 "cells": [
  {
   "cell_type": "code",
   "execution_count": 1,
   "metadata": {},
   "outputs": [],
   "source": [
    "import tensorflow as tf\n",
    "from tensorflow.examples.tutorials.mnist import input_data"
   ]
  },
  {
   "cell_type": "code",
   "execution_count": 2,
   "metadata": {},
   "outputs": [
    {
     "name": "stdout",
     "output_type": "stream",
     "text": [
      "Extracting Data/fashion/train-images-idx3-ubyte.gz\n",
      "Extracting Data/fashion/train-labels-idx1-ubyte.gz\n",
      "Extracting Data/fashion/t10k-images-idx3-ubyte.gz\n",
      "Extracting Data/fashion/t10k-labels-idx1-ubyte.gz\n"
     ]
    }
   ],
   "source": [
    "mnist = input_data.read_data_sets('Data/fashion', one_hot=True)"
   ]
  },
  {
   "cell_type": "code",
   "execution_count": 3,
   "metadata": {},
   "outputs": [],
   "source": [
    "n_classes = 10\n",
    "input_size = 784\n",
    "\n",
    "x = tf.placeholder(tf.float32, shape=[None, input_size])\n",
    "y = tf.placeholder(tf.float32, shape=[None, n_classes])\n",
    "keep_prob = tf.placeholder(tf.float32)"
   ]
  },
  {
   "cell_type": "code",
   "execution_count": 4,
   "metadata": {},
   "outputs": [],
   "source": [
    "def weight_variable(shape):\n",
    "    initial = tf.truncated_normal(shape, stddev=0.1)\n",
    "    return tf.Variable(initial)\n",
    "\n",
    "def bias_variable(shape):\n",
    "    initial = tf.constant(0.1, shape=shape)\n",
    "    return tf.Variable(initial)\n",
    "\n",
    "def conv2d(x, W):\n",
    "    return tf.nn.conv2d(x, W, strides=[1, 1, 1, 1], padding='SAME')\n",
    "\n",
    "def max_pool_2x2(x):\n",
    "    return tf.nn.max_pool(x, ksize=[1, 2, 2, 1], strides=[1, 2, 2, 1], padding='SAME')"
   ]
  },
  {
   "cell_type": "code",
   "execution_count": 5,
   "metadata": {},
   "outputs": [],
   "source": [
    "def summary_variable(var):\n",
    "    with tf.name_scope('summaries'):\n",
    "        mean = tf.reduce_mean(var)\n",
    "        tf.summary.scalar('mean', mean)\n",
    "        with tf.name_scope('stdev'):\n",
    "            stddev = tf.sqrt(tf.reduce_mean(tf.square(var - mean)))\n",
    "        tf.summary.scalar('stdev', stddev)\n",
    "        tf.summary.scalar('max', tf.reduce_max(var))\n",
    "        tf.summary.scalar('min', tf.reduce_min(var))\n",
    "        tf.summary.histogram('histogram', var)"
   ]
  },
  {
   "cell_type": "code",
   "execution_count": 6,
   "metadata": {},
   "outputs": [],
   "source": [
    "x_image = tf.reshape(x, [-1,28,28,1])\n",
    "with tf.name_scope('weights'):\n",
    "    W_conv1 = weight_variable([7, 7, 1, 100])\n",
    "    summary_variable(W_conv1)\n",
    "with tf.name_scope('biases'):\n",
    "    b_conv1 = bias_variable([100])\n",
    "    summary_variable(b_conv1)\n",
    "\n",
    "with tf.name_scope('Conv1'):\n",
    "    h_conv1 = tf.nn.relu(conv2d(x_image, W_conv1) + b_conv1)\n",
    "    h_pool1 = max_pool_2x2(h_conv1)\n",
    "    tf.summary.histogram('activations', h_conv1)\n",
    "    tf.summary.histogram('max_pool', h_pool1)\n",
    "\n",
    "with tf.name_scope('weights'):\n",
    "    W_conv2 = weight_variable([4, 4, 100, 150])\n",
    "    summary_variable(W_conv2)\n",
    "with tf.name_scope('biases'):\n",
    "    b_conv2 = bias_variable([150])\n",
    "    summary_variable(b_conv2)\n",
    "\n",
    "with tf.name_scope('Conv2'):\n",
    "    h_conv2 = tf.nn.relu(conv2d(h_pool1, W_conv2) + b_conv2)\n",
    "    h_pool2 = max_pool_2x2(h_conv2)\n",
    "    tf.summary.histogram('activations', h_conv2)\n",
    "    tf.summary.histogram('max_pool', h_pool2)"
   ]
  },
  {
   "cell_type": "code",
   "execution_count": 7,
   "metadata": {},
   "outputs": [],
   "source": [
    "W_conv3 = weight_variable([4, 4, 150, 250])\n",
    "b_conv3 = bias_variable([250])\n",
    "h_conv3 = tf.nn.relu(conv2d(h_pool2, W_conv3) + b_conv3)\n",
    "h_pool3 = max_pool_2x2(h_conv3)\n",
    "\n",
    "W_fc1 = weight_variable([4 * 4 * 250, 300])\n",
    "b_fc1 = bias_variable([300])\n",
    "h_pool3_flat = tf.reshape(h_pool3, [-1, 4*4*250])\n",
    "h_fc1 = tf.nn.relu(tf.matmul(h_pool3_flat, W_fc1) + b_fc1)\n",
    "h_fc1_drop = tf.nn.dropout(h_fc1, keep_prob)\n",
    "\n",
    "W_fc2 = weight_variable([300, n_classes])\n",
    "b_fc2 = bias_variable([n_classes])\n",
    "y_pred = tf.matmul(h_fc1_drop, W_fc2) + b_fc2"
   ]
  },
  {
   "cell_type": "code",
   "execution_count": 8,
   "metadata": {},
   "outputs": [
    {
     "data": {
      "text/plain": [
       "<tf.Tensor 'accuracy_1:0' shape=() dtype=string>"
      ]
     },
     "execution_count": 8,
     "metadata": {},
     "output_type": "execute_result"
    }
   ],
   "source": [
    "with tf.name_scope('cross_entropy'):\n",
    "    diff = tf.nn.softmax_cross_entropy_with_logits(labels=y, logits=y_pred)\n",
    "    with tf.name_scope('total'):\n",
    "        cross_entropy = tf.reduce_mean(diff)\n",
    "tf.summary.scalar('cross_entropy', cross_entropy)\n",
    "\n",
    "with tf.name_scope('accuracy'):\n",
    "    correct_prediction = tf.equal(tf.argmax(y_pred, 1), tf.argmax(y, 1))\n",
    "    accuracy = tf.reduce_mean(tf.cast(correct_prediction, tf.float32))\n",
    "tf.summary.scalar('accuracy', accuracy)"
   ]
  },
  {
   "cell_type": "code",
   "execution_count": 9,
   "metadata": {},
   "outputs": [],
   "source": [
    "learning_rate = 0.001\n",
    "train_step = tf.train.AdamOptimizer(learning_rate).minimize(cross_entropy)"
   ]
  },
  {
   "cell_type": "code",
   "execution_count": 10,
   "metadata": {},
   "outputs": [],
   "source": [
    "sess = tf.InteractiveSession()\n",
    "log_dir = 'tensorboard-example-weights'\n",
    "merged = tf.summary.merge_all()\n",
    "train_writer = tf.summary.FileWriter(log_dir + '/train', sess.graph)\n",
    "val_writer = tf.summary.FileWriter(log_dir + '/val')"
   ]
  },
  {
   "cell_type": "code",
   "execution_count": null,
   "metadata": {},
   "outputs": [],
   "source": [
    "n_steps = 1000\n",
    "batch_size = 128\n",
    "dropout = 0.25\n",
    "evaluate_every = 10\n",
    "n_val_steps = mnist.test.images.shape[0] // batch_size"
   ]
  },
  {
   "cell_type": "code",
   "execution_count": null,
   "metadata": {},
   "outputs": [
    {
     "name": "stdout",
     "output_type": "stream",
     "text": [
      "Step 0000: train_acc: 0.1406; val_acc 0.2179\n",
      "Step 0010: train_acc: 0.1797; val_acc 0.4831\n",
      "Step 0020: train_acc: 0.3203; val_acc 0.4927\n",
      "Step 0030: train_acc: 0.2812; val_acc 0.6179\n",
      "Step 0040: train_acc: 0.2891; val_acc 0.7009\n",
      "Step 0050: train_acc: 0.3828; val_acc 0.7347\n",
      "Step 0060: train_acc: 0.4766; val_acc 0.7823\n",
      "Step 0070: train_acc: 0.4453; val_acc 0.8366\n",
      "Step 0080: train_acc: 0.4844; val_acc 0.8559\n"
     ]
    }
   ],
   "source": [
    "tf.global_variables_initializer().run()\n",
    "for i in range(n_steps):\n",
    "    x_batch, y_batch = mnist.train.next_batch(batch_size)\n",
    "    summary, _, train_acc = sess.run([merged, train_step, accuracy], feed_dict={x: x_batch, y: y_batch, keep_prob: dropout})\n",
    "    train_writer.add_summary(summary, i)\n",
    "\n",
    "    if i % evaluate_every == 0:\n",
    "        val_accs = []\n",
    "        for j in range(n_val_steps):\n",
    "            x_batch, y_batch = mnist.test.next_batch(batch_size)\n",
    "            summary, val_acc = sess.run([merged, accuracy], feed_dict={x: x_batch, y: y_batch, keep_prob: 1.0})\n",
    "            val_writer.add_summary(summary, i)\n",
    "            val_accs.append(val_acc)\n",
    "        print('Step {:04.0f}: train_acc: {:.4f}; val_acc {:.4f}'.format(i, train_acc, sum(val_accs)/len(val_accs)))\n",
    "train_writer.close()\n",
    "val_writer.close()"
   ]
  }
 ],
 "metadata": {
  "kernelspec": {
   "display_name": "Python 3",
   "language": "python",
   "name": "python3"
  },
  "language_info": {
   "codemirror_mode": {
    "name": "ipython",
    "version": 3
   },
   "file_extension": ".py",
   "mimetype": "text/x-python",
   "name": "python",
   "nbconvert_exporter": "python",
   "pygments_lexer": "ipython3",
   "version": "3.6.8"
  },
  "widgets": {
   "state": {},
   "version": "1.1.2"
  }
 },
 "nbformat": 4,
 "nbformat_minor": 2
}
