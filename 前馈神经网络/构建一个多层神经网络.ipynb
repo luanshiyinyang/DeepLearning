{
 "cells": [
  {
   "cell_type": "markdown",
   "metadata": {},
   "source": [
    "# 一个多层神经网络\n",
    "- 使用Keras实现一个两层的，具有ｉ个输入变量、ｎ个隐藏层神经元和ｍ个隐藏层神经元以及单个输出神经元"
   ]
  },
  {
   "cell_type": "markdown",
   "metadata": {},
   "source": [
    "- 导入函数库和数据集"
   ]
  },
  {
   "cell_type": "code",
   "execution_count": 4,
   "metadata": {},
   "outputs": [],
   "source": [
    "import numpy as np\n",
    "import pandas as pd\n",
    "from sklearn.model_selection import train_test_split\n",
    "\n",
    "from keras.models import Sequential\n",
    "from keras.layers import Dense\n",
    "from keras.callbacks import EarlyStopping, ModelCheckpoint\n",
    "from keras.optimizers import Adam\n",
    "from sklearn.preprocessing import StandardScaler\n",
    "SEED = 2017"
   ]
  },
  {
   "cell_type": "markdown",
   "metadata": {},
   "source": [
    "- 加载数据集"
   ]
  },
  {
   "cell_type": "code",
   "execution_count": 6,
   "metadata": {},
   "outputs": [],
   "source": [
    "data = pd.read_csv('data/winequality-red.csv',)\n",
    "y = data['quality']\n",
    "X = data.drop(['quality'], axis=1)"
   ]
  },
  {
   "cell_type": "markdown",
   "metadata": {},
   "source": [
    "- 拆分数据，进行网络训练和测试"
   ]
  },
  {
   "cell_type": "code",
   "execution_count": 7,
   "metadata": {},
   "outputs": [],
   "source": [
    "X_train, X_test, y_train, y_test = train_test_split(X, y, test_size=0.2, random_state=SEED)"
   ]
  },
  {
   "cell_type": "markdown",
   "metadata": {},
   "source": [
    "- 输出显示平均品质和第一行训练集"
   ]
  },
  {
   "cell_type": "code",
   "execution_count": 9,
   "metadata": {},
   "outputs": [
    {
     "name": "stdout",
     "output_type": "stream",
     "text": [
      "Avearge quality training set:5.6231\n"
     ]
    },
    {
     "data": {
      "text/html": [
       "<div>\n",
       "<style scoped>\n",
       "    .dataframe tbody tr th:only-of-type {\n",
       "        vertical-align: middle;\n",
       "    }\n",
       "\n",
       "    .dataframe tbody tr th {\n",
       "        vertical-align: top;\n",
       "    }\n",
       "\n",
       "    .dataframe thead th {\n",
       "        text-align: right;\n",
       "    }\n",
       "</style>\n",
       "<table border=\"1\" class=\"dataframe\">\n",
       "  <thead>\n",
       "    <tr style=\"text-align: right;\">\n",
       "      <th></th>\n",
       "      <th>fixed acidity</th>\n",
       "      <th>volatile acidity</th>\n",
       "      <th>citric acid</th>\n",
       "      <th>residual sugar</th>\n",
       "      <th>chlorides</th>\n",
       "      <th>free sulfur dioxide</th>\n",
       "      <th>total sulfur dioxide</th>\n",
       "      <th>density</th>\n",
       "      <th>pH</th>\n",
       "      <th>sulphates</th>\n",
       "      <th>alcohol</th>\n",
       "    </tr>\n",
       "  </thead>\n",
       "  <tbody>\n",
       "    <tr>\n",
       "      <th>1140</th>\n",
       "      <td>7.3</td>\n",
       "      <td>0.40</td>\n",
       "      <td>0.30</td>\n",
       "      <td>1.7</td>\n",
       "      <td>0.080</td>\n",
       "      <td>33.0</td>\n",
       "      <td>79.0</td>\n",
       "      <td>0.99690</td>\n",
       "      <td>3.41</td>\n",
       "      <td>0.65</td>\n",
       "      <td>9.5</td>\n",
       "    </tr>\n",
       "    <tr>\n",
       "      <th>920</th>\n",
       "      <td>9.6</td>\n",
       "      <td>0.41</td>\n",
       "      <td>0.37</td>\n",
       "      <td>2.3</td>\n",
       "      <td>0.091</td>\n",
       "      <td>10.0</td>\n",
       "      <td>23.0</td>\n",
       "      <td>0.99786</td>\n",
       "      <td>3.24</td>\n",
       "      <td>0.56</td>\n",
       "      <td>10.5</td>\n",
       "    </tr>\n",
       "    <tr>\n",
       "      <th>1198</th>\n",
       "      <td>7.7</td>\n",
       "      <td>0.26</td>\n",
       "      <td>0.26</td>\n",
       "      <td>2.0</td>\n",
       "      <td>0.052</td>\n",
       "      <td>19.0</td>\n",
       "      <td>77.0</td>\n",
       "      <td>0.99510</td>\n",
       "      <td>3.15</td>\n",
       "      <td>0.79</td>\n",
       "      <td>10.9</td>\n",
       "    </tr>\n",
       "    <tr>\n",
       "      <th>423</th>\n",
       "      <td>10.5</td>\n",
       "      <td>0.24</td>\n",
       "      <td>0.47</td>\n",
       "      <td>2.1</td>\n",
       "      <td>0.066</td>\n",
       "      <td>6.0</td>\n",
       "      <td>24.0</td>\n",
       "      <td>0.99780</td>\n",
       "      <td>3.15</td>\n",
       "      <td>0.90</td>\n",
       "      <td>11.0</td>\n",
       "    </tr>\n",
       "    <tr>\n",
       "      <th>601</th>\n",
       "      <td>13.2</td>\n",
       "      <td>0.46</td>\n",
       "      <td>0.52</td>\n",
       "      <td>2.2</td>\n",
       "      <td>0.071</td>\n",
       "      <td>12.0</td>\n",
       "      <td>35.0</td>\n",
       "      <td>1.00060</td>\n",
       "      <td>3.10</td>\n",
       "      <td>0.56</td>\n",
       "      <td>9.0</td>\n",
       "    </tr>\n",
       "  </tbody>\n",
       "</table>\n",
       "</div>"
      ],
      "text/plain": [
       "      fixed acidity  volatile acidity  citric acid  residual sugar  chlorides  \\\n",
       "1140            7.3              0.40         0.30             1.7      0.080   \n",
       "920             9.6              0.41         0.37             2.3      0.091   \n",
       "1198            7.7              0.26         0.26             2.0      0.052   \n",
       "423            10.5              0.24         0.47             2.1      0.066   \n",
       "601            13.2              0.46         0.52             2.2      0.071   \n",
       "\n",
       "      free sulfur dioxide  total sulfur dioxide  density    pH  sulphates  \\\n",
       "1140                 33.0                  79.0  0.99690  3.41       0.65   \n",
       "920                  10.0                  23.0  0.99786  3.24       0.56   \n",
       "1198                 19.0                  77.0  0.99510  3.15       0.79   \n",
       "423                   6.0                  24.0  0.99780  3.15       0.90   \n",
       "601                  12.0                  35.0  1.00060  3.10       0.56   \n",
       "\n",
       "      alcohol  \n",
       "1140      9.5  \n",
       "920      10.5  \n",
       "1198     10.9  \n",
       "423      11.0  \n",
       "601       9.0  "
      ]
     },
     "execution_count": 9,
     "metadata": {},
     "output_type": "execute_result"
    }
   ],
   "source": [
    "print('Avearge quality training set:{:.4f}'.format(y_train.mean()))\n",
    "X_train.head()"
   ]
  },
  {
   "cell_type": "markdown",
   "metadata": {},
   "source": [
    "- 对输入数据进行标准化"
   ]
  },
  {
   "cell_type": "code",
   "execution_count": 11,
   "metadata": {},
   "outputs": [],
   "source": [
    "scaler = StandardScaler().fit(X_train)\n",
    "X_train = pd.DataFrame(scaler.transform(X_train))\n",
    "X_test = pd.DataFrame(scaler.transform(X_test))"
   ]
  },
  {
   "cell_type": "markdown",
   "metadata": {},
   "source": [
    "- 确定基准预测"
   ]
  },
  {
   "cell_type": "code",
   "execution_count": 12,
   "metadata": {},
   "outputs": [
    {
     "name": "stdout",
     "output_type": "stream",
     "text": [
      "MSE: 0.594\n"
     ]
    }
   ],
   "source": [
    "# 对每个验证输入的训练数据预测其平均质量\n",
    "print('MSE:', np.mean((y_test-([y_train.mean()]*y_test.shape[0]))**2).round(4))"
   ]
  },
  {
   "cell_type": "markdown",
   "metadata": {},
   "source": [
    "- 定义网络架构来构建神经网络模型"
   ]
  },
  {
   "cell_type": "code",
   "execution_count": 13,
   "metadata": {},
   "outputs": [],
   "source": [
    "model = Sequential()\n",
    "# 第一隐层含１００个神经元\n",
    "model.add(Dense(200, input_dim=X_train.shape[1], activation='relu'))\n",
    "# 第二隐层含５０个神经元\n",
    "model.add(Dense(25, activation='relu'))\n",
    "# 输出层\n",
    "model.add(Dense(1, activation='linear'))\n",
    "# 设置优化器\n",
    "opt = Adam()\n",
    "# 编译模型\n",
    "model.compile(loss='mse', optimizer=opt, metrics=['accuracy'])"
   ]
  },
  {
   "cell_type": "markdown",
   "metadata": {},
   "source": [
    "- 定义回调函数，以便使用早停技术保存最佳模型"
   ]
  },
  {
   "cell_type": "code",
   "execution_count": 14,
   "metadata": {},
   "outputs": [],
   "source": [
    "callbacks = [EarlyStopping(monitor='val_acc', patience=20, verbose=2), ModelCheckpoint('checkpoints/multi_layer_best_model.h5', monitor='val_acc', save_best_only=True, verbose=0)]"
   ]
  },
  {
   "cell_type": "markdown",
   "metadata": {},
   "source": [
    "- 运行批大小为64的模型5000个周期。验证集按20%分割"
   ]
  },
  {
   "cell_type": "code",
   "execution_count": 17,
   "metadata": {},
   "outputs": [
    {
     "name": "stdout",
     "output_type": "stream",
     "text": [
      "Train on 1023 samples, validate on 256 samples\n",
      "Epoch 1/5000\n",
      " - 0s - loss: 5.9233 - acc: 0.0821 - val_loss: 3.2299 - val_acc: 0.1680\n",
      "Epoch 2/5000\n",
      " - 0s - loss: 3.0214 - acc: 0.2121 - val_loss: 2.2365 - val_acc: 0.2656\n",
      "Epoch 3/5000\n",
      " - 0s - loss: 2.4891 - acc: 0.2561 - val_loss: 1.9499 - val_acc: 0.3047\n",
      "Epoch 4/5000\n",
      " - 0s - loss: 2.1429 - acc: 0.2522 - val_loss: 1.8198 - val_acc: 0.3242\n",
      "Epoch 5/5000\n",
      " - 0s - loss: 1.9527 - acc: 0.2532 - val_loss: 1.6792 - val_acc: 0.3047\n",
      "Epoch 6/5000\n",
      " - 0s - loss: 1.8146 - acc: 0.2805 - val_loss: 1.5607 - val_acc: 0.2930\n",
      "Epoch 7/5000\n",
      " - 0s - loss: 1.6906 - acc: 0.2981 - val_loss: 1.4962 - val_acc: 0.2930\n",
      "Epoch 8/5000\n",
      " - 0s - loss: 1.5812 - acc: 0.3118 - val_loss: 1.4076 - val_acc: 0.2969\n",
      "Epoch 9/5000\n",
      " - 0s - loss: 1.4975 - acc: 0.3196 - val_loss: 1.3485 - val_acc: 0.3047\n",
      "Epoch 10/5000\n",
      " - 0s - loss: 1.4081 - acc: 0.3314 - val_loss: 1.2793 - val_acc: 0.3125\n",
      "Epoch 11/5000\n",
      " - 0s - loss: 1.3369 - acc: 0.3421 - val_loss: 1.2236 - val_acc: 0.3398\n",
      "Epoch 12/5000\n",
      " - 0s - loss: 1.2668 - acc: 0.3509 - val_loss: 1.1632 - val_acc: 0.3555\n",
      "Epoch 13/5000\n",
      " - 0s - loss: 1.1983 - acc: 0.3636 - val_loss: 1.1158 - val_acc: 0.3594\n",
      "Epoch 14/5000\n",
      " - 0s - loss: 1.1390 - acc: 0.3675 - val_loss: 1.0581 - val_acc: 0.3789\n",
      "Epoch 15/5000\n",
      " - 0s - loss: 1.0820 - acc: 0.3812 - val_loss: 1.0129 - val_acc: 0.3828\n",
      "Epoch 16/5000\n",
      " - 0s - loss: 1.0245 - acc: 0.3832 - val_loss: 0.9694 - val_acc: 0.3867\n",
      "Epoch 17/5000\n",
      " - 0s - loss: 0.9806 - acc: 0.3891 - val_loss: 0.9353 - val_acc: 0.4062\n",
      "Epoch 18/5000\n",
      " - 0s - loss: 0.9355 - acc: 0.4008 - val_loss: 0.8880 - val_acc: 0.4180\n",
      "Epoch 19/5000\n",
      " - 0s - loss: 0.8889 - acc: 0.4115 - val_loss: 0.8591 - val_acc: 0.4141\n",
      "Epoch 20/5000\n",
      " - 0s - loss: 0.8502 - acc: 0.4125 - val_loss: 0.8134 - val_acc: 0.4336\n",
      "Epoch 21/5000\n",
      " - 0s - loss: 0.8053 - acc: 0.4242 - val_loss: 0.7813 - val_acc: 0.4414\n",
      "Epoch 22/5000\n",
      " - 0s - loss: 0.7742 - acc: 0.4370 - val_loss: 0.7515 - val_acc: 0.4453\n",
      "Epoch 23/5000\n",
      " - 0s - loss: 0.7379 - acc: 0.4379 - val_loss: 0.7270 - val_acc: 0.4492\n",
      "Epoch 24/5000\n",
      " - 0s - loss: 0.7094 - acc: 0.4604 - val_loss: 0.6950 - val_acc: 0.4609\n",
      "Epoch 25/5000\n",
      " - 0s - loss: 0.6827 - acc: 0.4741 - val_loss: 0.6697 - val_acc: 0.4531\n",
      "Epoch 26/5000\n",
      " - 0s - loss: 0.6530 - acc: 0.4682 - val_loss: 0.6535 - val_acc: 0.4922\n",
      "Epoch 27/5000\n",
      " - 0s - loss: 0.6256 - acc: 0.4800 - val_loss: 0.6204 - val_acc: 0.4922\n",
      "Epoch 28/5000\n",
      " - 0s - loss: 0.6029 - acc: 0.4946 - val_loss: 0.6098 - val_acc: 0.5000\n",
      "Epoch 29/5000\n",
      " - 0s - loss: 0.5798 - acc: 0.5034 - val_loss: 0.5903 - val_acc: 0.5195\n",
      "Epoch 30/5000\n",
      " - 0s - loss: 0.5635 - acc: 0.5142 - val_loss: 0.5774 - val_acc: 0.5156\n",
      "Epoch 31/5000\n",
      " - 0s - loss: 0.5462 - acc: 0.5152 - val_loss: 0.5610 - val_acc: 0.5273\n",
      "Epoch 32/5000\n",
      " - 0s - loss: 0.5269 - acc: 0.5142 - val_loss: 0.5439 - val_acc: 0.5430\n",
      "Epoch 33/5000\n",
      " - 0s - loss: 0.5110 - acc: 0.5239 - val_loss: 0.5308 - val_acc: 0.5508\n",
      "Epoch 34/5000\n",
      " - 0s - loss: 0.5075 - acc: 0.5239 - val_loss: 0.5202 - val_acc: 0.5273\n",
      "Epoch 35/5000\n",
      " - 0s - loss: 0.4839 - acc: 0.5464 - val_loss: 0.5167 - val_acc: 0.5508\n",
      "Epoch 36/5000\n",
      " - 0s - loss: 0.4701 - acc: 0.5425 - val_loss: 0.4966 - val_acc: 0.5742\n",
      "Epoch 37/5000\n",
      " - 0s - loss: 0.4598 - acc: 0.5543 - val_loss: 0.5004 - val_acc: 0.5586\n",
      "Epoch 38/5000\n",
      " - 0s - loss: 0.4504 - acc: 0.5543 - val_loss: 0.4787 - val_acc: 0.5625\n",
      "Epoch 39/5000\n",
      " - 0s - loss: 0.4414 - acc: 0.5503 - val_loss: 0.4783 - val_acc: 0.5703\n",
      "Epoch 40/5000\n",
      " - 0s - loss: 0.4335 - acc: 0.5591 - val_loss: 0.4696 - val_acc: 0.5820\n",
      "Epoch 41/5000\n",
      " - 0s - loss: 0.4207 - acc: 0.5689 - val_loss: 0.4572 - val_acc: 0.5820\n",
      "Epoch 42/5000\n",
      " - 0s - loss: 0.4104 - acc: 0.5846 - val_loss: 0.4587 - val_acc: 0.5781\n",
      "Epoch 43/5000\n",
      " - 0s - loss: 0.4050 - acc: 0.5836 - val_loss: 0.4523 - val_acc: 0.5859\n",
      "Epoch 44/5000\n",
      " - 0s - loss: 0.4042 - acc: 0.5894 - val_loss: 0.4671 - val_acc: 0.5898\n",
      "Epoch 45/5000\n",
      " - 0s - loss: 0.3974 - acc: 0.5904 - val_loss: 0.4416 - val_acc: 0.6094\n",
      "Epoch 46/5000\n",
      " - 0s - loss: 0.3872 - acc: 0.5992 - val_loss: 0.4375 - val_acc: 0.5820\n",
      "Epoch 47/5000\n",
      " - 0s - loss: 0.3832 - acc: 0.5973 - val_loss: 0.4458 - val_acc: 0.6172\n",
      "Epoch 48/5000\n",
      " - 0s - loss: 0.3768 - acc: 0.6061 - val_loss: 0.4291 - val_acc: 0.5977\n",
      "Epoch 49/5000\n",
      " - 0s - loss: 0.3752 - acc: 0.6119 - val_loss: 0.4376 - val_acc: 0.6172\n",
      "Epoch 50/5000\n",
      " - 0s - loss: 0.3664 - acc: 0.6168 - val_loss: 0.4175 - val_acc: 0.5977\n",
      "Epoch 51/5000\n",
      " - 0s - loss: 0.3657 - acc: 0.6139 - val_loss: 0.4555 - val_acc: 0.6133\n",
      "Epoch 52/5000\n",
      " - 0s - loss: 0.3638 - acc: 0.6188 - val_loss: 0.4102 - val_acc: 0.6172\n",
      "Epoch 53/5000\n",
      " - 0s - loss: 0.3587 - acc: 0.6285 - val_loss: 0.4160 - val_acc: 0.6055\n",
      "Epoch 54/5000\n",
      " - 0s - loss: 0.3568 - acc: 0.6158 - val_loss: 0.4147 - val_acc: 0.6055\n",
      "Epoch 55/5000\n",
      " - 0s - loss: 0.3516 - acc: 0.6237 - val_loss: 0.4177 - val_acc: 0.6172\n",
      "Epoch 56/5000\n",
      " - 0s - loss: 0.3499 - acc: 0.6197 - val_loss: 0.4159 - val_acc: 0.6094\n",
      "Epoch 57/5000\n",
      " - 0s - loss: 0.3455 - acc: 0.6325 - val_loss: 0.4086 - val_acc: 0.6094\n",
      "Epoch 58/5000\n",
      " - 0s - loss: 0.3419 - acc: 0.6315 - val_loss: 0.4054 - val_acc: 0.5898\n",
      "Epoch 59/5000\n",
      " - 0s - loss: 0.3453 - acc: 0.6325 - val_loss: 0.4084 - val_acc: 0.6094\n",
      "Epoch 60/5000\n",
      " - 0s - loss: 0.3370 - acc: 0.6315 - val_loss: 0.4052 - val_acc: 0.6211\n",
      "Epoch 61/5000\n",
      " - 0s - loss: 0.3399 - acc: 0.6305 - val_loss: 0.4001 - val_acc: 0.6211\n",
      "Epoch 62/5000\n",
      " - 0s - loss: 0.3369 - acc: 0.6383 - val_loss: 0.3980 - val_acc: 0.6172\n",
      "Epoch 63/5000\n",
      " - 0s - loss: 0.3313 - acc: 0.6393 - val_loss: 0.3992 - val_acc: 0.6211\n",
      "Epoch 64/5000\n",
      " - 0s - loss: 0.3259 - acc: 0.6481 - val_loss: 0.4172 - val_acc: 0.6094\n",
      "Epoch 65/5000\n",
      " - 0s - loss: 0.3268 - acc: 0.6344 - val_loss: 0.3985 - val_acc: 0.6250\n",
      "Epoch 66/5000\n",
      " - 0s - loss: 0.3247 - acc: 0.6344 - val_loss: 0.4111 - val_acc: 0.6172\n",
      "Epoch 67/5000\n",
      " - 0s - loss: 0.3223 - acc: 0.6481 - val_loss: 0.4029 - val_acc: 0.6250\n",
      "Epoch 68/5000\n",
      " - 0s - loss: 0.3182 - acc: 0.6500 - val_loss: 0.4076 - val_acc: 0.6250\n",
      "Epoch 69/5000\n",
      " - 0s - loss: 0.3222 - acc: 0.6491 - val_loss: 0.3963 - val_acc: 0.6289\n",
      "Epoch 70/5000\n",
      " - 0s - loss: 0.3158 - acc: 0.6461 - val_loss: 0.4025 - val_acc: 0.6211\n",
      "Epoch 71/5000\n",
      " - 0s - loss: 0.3160 - acc: 0.6569 - val_loss: 0.3976 - val_acc: 0.6211\n",
      "Epoch 72/5000\n",
      " - 0s - loss: 0.3133 - acc: 0.6637 - val_loss: 0.3879 - val_acc: 0.6289\n",
      "Epoch 73/5000\n",
      " - 0s - loss: 0.3122 - acc: 0.6500 - val_loss: 0.3999 - val_acc: 0.6211\n",
      "Epoch 74/5000\n",
      " - 0s - loss: 0.3109 - acc: 0.6559 - val_loss: 0.3881 - val_acc: 0.6367\n",
      "Epoch 75/5000\n",
      " - 0s - loss: 0.3118 - acc: 0.6667 - val_loss: 0.4254 - val_acc: 0.6367\n",
      "Epoch 76/5000\n",
      " - 0s - loss: 0.3153 - acc: 0.6491 - val_loss: 0.4009 - val_acc: 0.6211\n",
      "Epoch 77/5000\n",
      " - 0s - loss: 0.3048 - acc: 0.6647 - val_loss: 0.3834 - val_acc: 0.6133\n",
      "Epoch 78/5000\n",
      " - 0s - loss: 0.3116 - acc: 0.6628 - val_loss: 0.3870 - val_acc: 0.6328\n",
      "Epoch 79/5000\n",
      " - 0s - loss: 0.3066 - acc: 0.6696 - val_loss: 0.4235 - val_acc: 0.6133\n",
      "Epoch 80/5000\n",
      " - 0s - loss: 0.3102 - acc: 0.6706 - val_loss: 0.3927 - val_acc: 0.6211\n",
      "Epoch 81/5000\n",
      " - 0s - loss: 0.3014 - acc: 0.6598 - val_loss: 0.3846 - val_acc: 0.6211\n",
      "Epoch 82/5000\n",
      " - 0s - loss: 0.3030 - acc: 0.6686 - val_loss: 0.3902 - val_acc: 0.6211\n",
      "Epoch 83/5000\n",
      " - 0s - loss: 0.2967 - acc: 0.6716 - val_loss: 0.4309 - val_acc: 0.6172\n",
      "Epoch 84/5000\n",
      " - 0s - loss: 0.3014 - acc: 0.6676 - val_loss: 0.3883 - val_acc: 0.6328\n",
      "Epoch 85/5000\n",
      " - 0s - loss: 0.2996 - acc: 0.6716 - val_loss: 0.3801 - val_acc: 0.6094\n",
      "Epoch 86/5000\n",
      " - 0s - loss: 0.3032 - acc: 0.6618 - val_loss: 0.4006 - val_acc: 0.5977\n",
      "Epoch 87/5000\n",
      " - 0s - loss: 0.2917 - acc: 0.6784 - val_loss: 0.3919 - val_acc: 0.6445\n",
      "Epoch 88/5000\n",
      " - 0s - loss: 0.2918 - acc: 0.6716 - val_loss: 0.3992 - val_acc: 0.6094\n",
      "Epoch 89/5000\n",
      " - 0s - loss: 0.2924 - acc: 0.6716 - val_loss: 0.3861 - val_acc: 0.6172\n",
      "Epoch 90/5000\n",
      " - 0s - loss: 0.2873 - acc: 0.6686 - val_loss: 0.3983 - val_acc: 0.6250\n",
      "Epoch 91/5000\n",
      " - 0s - loss: 0.2819 - acc: 0.6901 - val_loss: 0.3912 - val_acc: 0.6133\n",
      "Epoch 92/5000\n",
      " - 0s - loss: 0.2837 - acc: 0.6843 - val_loss: 0.3902 - val_acc: 0.6484\n",
      "Epoch 93/5000\n",
      " - 0s - loss: 0.2865 - acc: 0.6764 - val_loss: 0.3806 - val_acc: 0.6367\n",
      "Epoch 94/5000\n",
      " - 0s - loss: 0.2837 - acc: 0.6764 - val_loss: 0.3966 - val_acc: 0.6016\n",
      "Epoch 95/5000\n",
      " - 0s - loss: 0.2825 - acc: 0.6745 - val_loss: 0.3919 - val_acc: 0.6328\n"
     ]
    },
    {
     "name": "stdout",
     "output_type": "stream",
     "text": [
      "Epoch 96/5000\n",
      " - 0s - loss: 0.2875 - acc: 0.6764 - val_loss: 0.4100 - val_acc: 0.6367\n",
      "Epoch 97/5000\n",
      " - 0s - loss: 0.2785 - acc: 0.6852 - val_loss: 0.3775 - val_acc: 0.6289\n",
      "Epoch 98/5000\n",
      " - 0s - loss: 0.2834 - acc: 0.6843 - val_loss: 0.3849 - val_acc: 0.6133\n",
      "Epoch 99/5000\n",
      " - 0s - loss: 0.2795 - acc: 0.6833 - val_loss: 0.4012 - val_acc: 0.6250\n",
      "Epoch 100/5000\n",
      " - 0s - loss: 0.2778 - acc: 0.6823 - val_loss: 0.4034 - val_acc: 0.6328\n",
      "Epoch 101/5000\n",
      " - 0s - loss: 0.2747 - acc: 0.6931 - val_loss: 0.3944 - val_acc: 0.6289\n",
      "Epoch 102/5000\n",
      " - 0s - loss: 0.2742 - acc: 0.6921 - val_loss: 0.3922 - val_acc: 0.6172\n",
      "Epoch 103/5000\n",
      " - 0s - loss: 0.2721 - acc: 0.6940 - val_loss: 0.3850 - val_acc: 0.6055\n",
      "Epoch 104/5000\n",
      " - 0s - loss: 0.2681 - acc: 0.6852 - val_loss: 0.3894 - val_acc: 0.6328\n",
      "Epoch 105/5000\n",
      " - 0s - loss: 0.2662 - acc: 0.6891 - val_loss: 0.4036 - val_acc: 0.6133\n",
      "Epoch 106/5000\n",
      " - 0s - loss: 0.2674 - acc: 0.6833 - val_loss: 0.3809 - val_acc: 0.6406\n",
      "Epoch 107/5000\n",
      " - 0s - loss: 0.2695 - acc: 0.6891 - val_loss: 0.4150 - val_acc: 0.6250\n",
      "Epoch 108/5000\n",
      " - 0s - loss: 0.2677 - acc: 0.6921 - val_loss: 0.3999 - val_acc: 0.6172\n",
      "Epoch 109/5000\n",
      " - 0s - loss: 0.2737 - acc: 0.6921 - val_loss: 0.4110 - val_acc: 0.6211\n",
      "Epoch 110/5000\n",
      " - 0s - loss: 0.2669 - acc: 0.7009 - val_loss: 0.3838 - val_acc: 0.6094\n",
      "Epoch 111/5000\n",
      " - 0s - loss: 0.2681 - acc: 0.6940 - val_loss: 0.4063 - val_acc: 0.6250\n",
      "Epoch 112/5000\n",
      " - 0s - loss: 0.2718 - acc: 0.7009 - val_loss: 0.4019 - val_acc: 0.6250\n",
      "Epoch 00112: early stopping\n"
     ]
    },
    {
     "data": {
      "text/plain": [
       "<keras.callbacks.History at 0x7fc93d69cf60>"
      ]
     },
     "execution_count": 17,
     "metadata": {},
     "output_type": "execute_result"
    }
   ],
   "source": [
    "batch_size = 64\n",
    "n_epochs = 5000\n",
    "model.fit(X_train.values, y_train, batch_size=batch_size, epochs=n_epochs, validation_split=0.2, verbose=2, callbacks=callbacks)"
   ]
  },
  {
   "cell_type": "markdown",
   "metadata": {},
   "source": [
    "- 加载最佳权重后，可以在测试集上输出显示性能"
   ]
  },
  {
   "cell_type": "code",
   "execution_count": 18,
   "metadata": {},
   "outputs": [
    {
     "name": "stdout",
     "output_type": "stream",
     "text": [
      "Test accuracy:61.25\n"
     ]
    }
   ],
   "source": [
    "best_model = model\n",
    "best_model.load_weights('checkpoints/multi_layer_best_model.h5')\n",
    "best_model.compile(loss='mse', optimizer='adam', metrics=['accuracy'])\n",
    "score = best_model.evaluate(X_test.values, y_test, verbose=0)\n",
    "print('Test accuracy:{:.2f}'.format(score[1]*100))"
   ]
  },
  {
   "cell_type": "code",
   "execution_count": null,
   "metadata": {},
   "outputs": [],
   "source": []
  },
  {
   "cell_type": "code",
   "execution_count": null,
   "metadata": {},
   "outputs": [],
   "source": []
  },
  {
   "cell_type": "code",
   "execution_count": null,
   "metadata": {},
   "outputs": [],
   "source": []
  },
  {
   "cell_type": "code",
   "execution_count": null,
   "metadata": {},
   "outputs": [],
   "source": []
  },
  {
   "cell_type": "code",
   "execution_count": null,
   "metadata": {},
   "outputs": [],
   "source": []
  },
  {
   "cell_type": "code",
   "execution_count": null,
   "metadata": {},
   "outputs": [],
   "source": []
  },
  {
   "cell_type": "code",
   "execution_count": null,
   "metadata": {},
   "outputs": [],
   "source": []
  },
  {
   "cell_type": "code",
   "execution_count": null,
   "metadata": {},
   "outputs": [],
   "source": []
  },
  {
   "cell_type": "code",
   "execution_count": null,
   "metadata": {},
   "outputs": [],
   "source": []
  },
  {
   "cell_type": "code",
   "execution_count": null,
   "metadata": {},
   "outputs": [],
   "source": []
  }
 ],
 "metadata": {
  "kernelspec": {
   "display_name": "Python 3",
   "language": "python",
   "name": "python3"
  },
  "language_info": {
   "codemirror_mode": {
    "name": "ipython",
    "version": 3
   },
   "file_extension": ".py",
   "mimetype": "text/x-python",
   "name": "python",
   "nbconvert_exporter": "python",
   "pygments_lexer": "ipython3",
   "version": "3.6.8"
  }
 },
 "nbformat": 4,
 "nbformat_minor": 2
}
