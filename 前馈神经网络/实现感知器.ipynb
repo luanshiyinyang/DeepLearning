{
 "cells": [
  {
   "cell_type": "markdown",
   "metadata": {},
   "source": [
    "# 感知器\n",
    "- 众所周知，网络由多个层（至少一个输入层，一个隐藏层，一个输出层）组成，一层可能有若干个神经元。感知器是一个有单个神经元组成的模型。"
   ]
  },
  {
   "cell_type": "markdown",
   "metadata": {},
   "source": [
    "- 导入函数库和数据集"
   ]
  },
  {
   "cell_type": "code",
   "execution_count": 1,
   "metadata": {},
   "outputs": [],
   "source": [
    "import numpy as np\n",
    "from sklearn.model_selection import train_test_split\n",
    "import matplotlib.pyplot as plt\n",
    "# 使用Iris植物数据集\n",
    "from sklearn.datasets import load_iris\n",
    "SEED = 2017"
   ]
  },
  {
   "cell_type": "markdown",
   "metadata": {},
   "source": [
    "- 导入的数据集分组"
   ]
  },
  {
   "cell_type": "code",
   "execution_count": 5,
   "metadata": {},
   "outputs": [],
   "source": [
    "# Iris数据集中的前两类线性可分(Iris-Setosa和Iris-Versicolour)\n",
    "iris = load_iris()\n",
    "idxs = np.where(iris.target < 2)\n",
    "X = iris.data[idxs]\n",
    "Y = iris.target[idxs]"
   ]
  },
  {
   "cell_type": "markdown",
   "metadata": {},
   "source": [
    "- 绘制四个变量中的两个变量的数据绘制"
   ]
  },
  {
   "cell_type": "code",
   "execution_count": 6,
   "metadata": {},
   "outputs": [
    {
     "data": {
      "image/png": "[encoded data removed]",
      "text/plain": [
       "<Figure size 432x288 with 1 Axes>"
      ]
     },
     "metadata": {
      "needs_background": "light"
     },
     "output_type": "display_data"
    }
   ],
   "source": [
    "plt.scatter(X[Y==0][:, 0], X[Y==0][:, 2], color='green', label='Iris-Setosa')\n",
    "plt.scatter(X[Y==1][:, 0], X[Y==1][:, 2], color='red', label='Iris-Versicolour')\n",
    "plt.title('Iris Plants Database')\n",
    "plt.xlabel('sepal length in cm')\n",
    "plt.ylabel('sepal width in cm')\n",
    "plt.legend()\n",
    "plt.show()"
   ]
  },
  {
   "cell_type": "markdown",
   "metadata": {},
   "source": [
    "- 为了验证结果，将数据划分训练集和测试集（验证集）"
   ]
  },
  {
   "cell_type": "code",
   "execution_count": 7,
   "metadata": {},
   "outputs": [],
   "source": [
    "X_train, X_val, y_train, y_val = train_test_split(X, Y, test_size=0.2, random_state=SEED)"
   ]
  },
  {
   "cell_type": "markdown",
   "metadata": {},
   "source": [
    "- 初始化感知器的权重和偏置"
   ]
  },
  {
   "cell_type": "code",
   "execution_count": 8,
   "metadata": {},
   "outputs": [],
   "source": [
    "weights = np.random.normal(size=X_train.shape[1])\n",
    "bias = 1"
   ]
  },
  {
   "cell_type": "markdown",
   "metadata": {},
   "source": [
    "- 训练之前，定义超参数"
   ]
  },
  {
   "cell_type": "code",
   "execution_count": 9,
   "metadata": {},
   "outputs": [],
   "source": [
    "# 定义学习速率\n",
    "learning_rate = 0.1\n",
    "# 训练轮次\n",
    "n_epochs = 15"
   ]
  },
  {
   "cell_type": "markdown",
   "metadata": {},
   "source": [
    "- 训练感知器"
   ]
  },
  {
   "cell_type": "code",
   "execution_count": 10,
   "metadata": {},
   "outputs": [],
   "source": [
    "del_w = np.zeros(weights.shape)\n",
    "hist_loss = []\n",
    "hist_accuracy = []\n",
    "for i in range(n_epochs):\n",
    "    # 使用阶跃函数，若输出>0.5，预测结果为１，否则为０\n",
    "    output = np.where((X_train.dot(weights)+bias)>0.5, 1, 0)\n",
    "    # 计算MSE损失\n",
    "    error = np.mean((y_train-output)**2)\n",
    "    # 更新权值与偏置\n",
    "    weights -= learning_rate * np.dot((output-y_train), X_train)\n",
    "    bias += learning_rate * np.sum(np.dot((output-y_train), X_train))\n",
    "    # 计算MSE\n",
    "    loss = np.mean((output-y_train)**2)\n",
    "    hist_loss.append(loss)\n",
    "    # 确定验证精度\n",
    "    output_val = np.where(X_val.dot(weights) > 0.5, 1, 0)\n",
    "    accuracy = np.mean(np.where(y_val==output_val, 1, 0))\n",
    "    hist_accuracy.append(accuracy)"
   ]
  },
  {
   "cell_type": "markdown",
   "metadata": {},
   "source": [
    "- 保存训练损失值和精度，以便绘图呈现"
   ]
  },
  {
   "cell_type": "code",
   "execution_count": 11,
   "metadata": {},
   "outputs": [
    {
     "data": {
      "image/png": "[encoded data removed]",
      "text/plain": [
       "<Figure size 576x288 with 2 Axes>"
      ]
     },
     "metadata": {
      "needs_background": "light"
     },
     "output_type": "display_data"
    }
   ],
   "source": [
    "fig = plt.figure(figsize=(8, 4))\n",
    "a = fig.add_subplot(1, 2, 1)\n",
    "imgplot = plt.plot(hist_loss)\n",
    "plt.xlabel('epochs')\n",
    "a.set_title('Training loss')\n",
    "a = fig.add_subplot(1, 2, 2)\n",
    "imgplot = plt.plot(hist_accuracy)\n",
    "plt.xlabel('epochs')\n",
    "a.set_title('Validation Accuracy')\n",
    "plt.show()"
   ]
  },
  {
   "cell_type": "code",
   "execution_count": null,
   "metadata": {},
   "outputs": [],
   "source": []
  },
  {
   "cell_type": "code",
   "execution_count": null,
   "metadata": {},
   "outputs": [],
   "source": []
  },
  {
   "cell_type": "code",
   "execution_count": null,
   "metadata": {},
   "outputs": [],
   "source": []
  },
  {
   "cell_type": "code",
   "execution_count": null,
   "metadata": {},
   "outputs": [],
   "source": []
  }
 ],
 "metadata": {
  "kernelspec": {
   "display_name": "Python 3",
   "language": "python",
   "name": "python3"
  },
  "language_info": {
   "codemirror_mode": {
    "name": "ipython",
    "version": 3
   },
   "file_extension": ".py",
   "mimetype": "text/x-python",
   "name": "python",
   "nbconvert_exporter": "python",
   "pygments_lexer": "ipython3",
   "version": "3.6.8"
  }
 },
 "nbformat": 4,
 "nbformat_minor": 2
}
