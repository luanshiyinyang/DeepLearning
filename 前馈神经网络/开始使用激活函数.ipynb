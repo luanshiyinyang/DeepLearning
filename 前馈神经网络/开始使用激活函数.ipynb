{
 "cells": [
  {
   "cell_type": "markdown",
   "metadata": {},
   "source": [
    "- 导入函数库和数据集"
   ]
  },
  {
   "cell_type": "code",
   "execution_count": 2,
   "metadata": {},
   "outputs": [
    {
     "name": "stderr",
     "output_type": "stream",
     "text": [
      "Using TensorFlow backend.\n"
     ]
    }
   ],
   "source": [
    "import numpy as np\n",
    "import pandas as pd\n",
    "from sklearn.model_selection import train_test_split\n",
    "import matplotlib.pyplot as plt\n",
    "from keras.models import Sequential\n",
    "from keras.layers import Dense\n",
    "from keras.utils import to_categorical\n",
    "from keras.callbacks import Callback\n",
    "from keras.datasets import mnist\n",
    "SEED = 2017"
   ]
  },
  {
   "cell_type": "markdown",
   "metadata": {},
   "source": [
    "- 加载MNIST数据集"
   ]
  },
  {
   "cell_type": "code",
   "execution_count": 4,
   "metadata": {},
   "outputs": [],
   "source": [
    "(X_train, y_train), (X_val, y_val) = mnist.load_data(\"/home/zhouchen/Jupyter/前馈神经网络/data/mnist.npz\", )"
   ]
  },
  {
   "cell_type": "markdown",
   "metadata": {},
   "source": [
    "- 显示每个标签的示例并输出，对显示的每个标签计数"
   ]
  },
  {
   "cell_type": "code",
   "execution_count": 5,
   "metadata": {
    "scrolled": true
   },
   "outputs": [
    {
     "data": {
      "image/png": "[encoded data removed]",
      "text/plain": [
       "<Figure size 864x864 with 1 Axes>"
      ]
     },
     "metadata": {
      "needs_background": "light"
     },
     "output_type": "display_data"
    },
    {
     "data": {
      "image/png": "[encoded data removed]",
      "text/plain": [
       "<Figure size 432x288 with 1 Axes>"
      ]
     },
     "metadata": {
      "needs_background": "light"
     },
     "output_type": "display_data"
    },
    {
     "data": {
      "image/png": "[encoded data removed]",
      "text/plain": [
       "<Figure size 432x288 with 1 Axes>"
      ]
     },
     "metadata": {
      "needs_background": "light"
     },
     "output_type": "display_data"
    },
    {
     "data": {
      "image/png": "[encoded data removed]",
      "text/plain": [
       "<Figure size 432x288 with 1 Axes>"
      ]
     },
     "metadata": {
      "needs_background": "light"
     },
     "output_type": "display_data"
    },
    {
     "data": {
      "image/png": "[encoded data removed]",
      "text/plain": [
       "<Figure size 432x288 with 1 Axes>"
      ]
     },
     "metadata": {
      "needs_background": "light"
     },
     "output_type": "display_data"
    },
    {
     "data": {
      "image/png": "[encoded data removed]",
      "text/plain": [
       "<Figure size 432x288 with 1 Axes>"
      ]
     },
     "metadata": {
      "needs_background": "light"
     },
     "output_type": "display_data"
    },
    {
     "data": {
      "image/png": "[encoded data removed]",
      "text/plain": [
       "<Figure size 432x288 with 1 Axes>"
      ]
     },
     "metadata": {
      "needs_background": "light"
     },
     "output_type": "display_data"
    },
    {
     "data": {
      "image/png": "[encoded data removed]",
      "text/plain": [
       "<Figure size 432x288 with 1 Axes>"
      ]
     },
     "metadata": {
      "needs_background": "light"
     },
     "output_type": "display_data"
    },
    {
     "data": {
      "image/png": "[encoded data removed]",
      "text/plain": [
       "<Figure size 432x288 with 1 Axes>"
      ]
     },
     "metadata": {
      "needs_background": "light"
     },
     "output_type": "display_data"
    },
    {
     "data": {
      "image/png": "[encoded data removed]",
      "text/plain": [
       "<Figure size 432x288 with 1 Axes>"
      ]
     },
     "metadata": {
      "needs_background": "light"
     },
     "output_type": "display_data"
    }
   ],
   "source": [
    "# 按标号绘制第一个图像\n",
    "unique_labels = set(y_train)\n",
    "plt.figure(figsize=(12, 12))\n",
    "i = 1\n",
    "for label in unique_labels:\n",
    "    image = X_train[y_train.tolist().index(label)]\n",
    "    plt.subplot(10, 10, i)\n",
    "    plt.axis('off')\n",
    "    plt.title(\"{0}:({1})\".format(label, y_train.tolist().count(label)))\n",
    "    i += 1\n",
    "    _ = plt.imshow(image, cmap='gray')\n",
    "    plt.show()"
   ]
  },
  {
   "cell_type": "markdown",
   "metadata": {},
   "source": [
    "- 数据预处理\n"
   ]
  },
  {
   "cell_type": "code",
   "execution_count": 6,
   "metadata": {},
   "outputs": [],
   "source": [
    "# 数据标准化\n",
    "X_train = X_train.astype('float32')/255\n",
    "X_val = X_val.astype('float32')/255\n",
    "# 对标号one-hot编码\n",
    "y_train = to_categorical(y_train, 10)\n",
    "y_val = to_categorical(y_val, 10)\n",
    "# 拼合数据－将图像拉伸为一系列连续值\n",
    "X_train = np.reshape(X_train, (60000, 784))\n",
    "X_val = np.reshape(X_val, (10000, 784))"
   ]
  },
  {
   "cell_type": "markdown",
   "metadata": {},
   "source": [
    "- 用Sigmoid激活函数定义模型"
   ]
  },
  {
   "cell_type": "code",
   "execution_count": 7,
   "metadata": {},
   "outputs": [],
   "source": [
    "model_sigmoid = Sequential()\n",
    "model_sigmoid.add(Dense(700, input_dim=784, activation='sigmoid'))\n",
    "model_sigmoid.add(Dense(700, activation='sigmoid'))\n",
    "model_sigmoid.add(Dense(700, activation='sigmoid'))\n",
    "model_sigmoid.add(Dense(700, activation='sigmoid'))\n",
    "model_sigmoid.add(Dense(700, activation='sigmoid'))\n",
    "model_sigmoid.add(Dense(350, activation='sigmoid'))\n",
    "model_sigmoid.add(Dense(100, activation='sigmoid'))\n",
    "model_sigmoid.add(Dense(10, activation='softmax'))\n",
    "# 用SGD编译模型\n",
    "model_sigmoid.compile(loss='categorical_crossentropy', optimizer='sgd', metrics=['accuracy'])\n"
   ]
  },
  {
   "cell_type": "markdown",
   "metadata": {},
   "source": [
    "- 使用Relu激活函数定义模型\n"
   ]
  },
  {
   "cell_type": "code",
   "execution_count": 8,
   "metadata": {},
   "outputs": [],
   "source": [
    "model_relu = Sequential()\n",
    "model_relu.add(Dense(700, input_dim=784, activation='relu'))\n",
    "model_relu.add(Dense(700,  activation='relu'))\n",
    "model_relu.add(Dense(700,  activation='relu'))\n",
    "model_relu.add(Dense(700,  activation='relu'))\n",
    "model_relu.add(Dense(700,  activation='relu'))\n",
    "model_relu.add(Dense(350,  activation='relu'))\n",
    "model_relu.add(Dense(100,  activation='relu'))\n",
    "model_relu.add(Dense(10, activation='softmax'))\n",
    "# 用SGD编译模型\n",
    "model_relu.compile(loss='categorical_crossentropy', optimizer='sgd', metrics=['accuracy'])"
   ]
  },
  {
   "cell_type": "markdown",
   "metadata": {},
   "source": [
    "- 创建一个回调函数来存储每个批次的损失值"
   ]
  },
  {
   "cell_type": "code",
   "execution_count": 9,
   "metadata": {},
   "outputs": [],
   "source": [
    "class history_loss(Callback):\n",
    "    def on_train_begin(self, logs={}):\n",
    "        self.losses = []\n",
    "    def on_batch_end(self, batch, logs=[]):\n",
    "        batch_loss = logs.get('loss')\n",
    "        self.losses.append(batch_loss)"
   ]
  },
  {
   "cell_type": "markdown",
   "metadata": {},
   "source": [
    "- 运行模型\n"
   ]
  },
  {
   "cell_type": "code",
   "execution_count": 10,
   "metadata": {
    "scrolled": true
   },
   "outputs": [
    {
     "name": "stdout",
     "output_type": "stream",
     "text": [
      "Train on 48000 samples, validate on 12000 samples\n",
      "Epoch 1/10\n",
      " - 33s - loss: 2.3201 - acc: 0.1140 - val_loss: 2.3020 - val_acc: 0.1060\n",
      "Epoch 2/10\n",
      " - 32s - loss: 2.3014 - acc: 0.1140 - val_loss: 2.3020 - val_acc: 0.1060\n",
      "Epoch 3/10\n",
      " - 31s - loss: 2.3014 - acc: 0.1140 - val_loss: 2.3023 - val_acc: 0.1060\n",
      "Epoch 4/10\n",
      " - 29s - loss: 2.3013 - acc: 0.1140 - val_loss: 2.3022 - val_acc: 0.1060\n",
      "Epoch 5/10\n",
      " - 29s - loss: 2.3013 - acc: 0.1140 - val_loss: 2.3024 - val_acc: 0.1060\n",
      "Epoch 6/10\n",
      " - 31s - loss: 2.3014 - acc: 0.1140 - val_loss: 2.3022 - val_acc: 0.1060\n",
      "Epoch 7/10\n",
      " - 33s - loss: 2.3014 - acc: 0.1140 - val_loss: 2.3021 - val_acc: 0.1060\n",
      "Epoch 8/10\n",
      " - 31s - loss: 2.3013 - acc: 0.1140 - val_loss: 2.3021 - val_acc: 0.1060\n",
      "Epoch 9/10\n",
      " - 31s - loss: 2.3014 - acc: 0.1140 - val_loss: 2.3025 - val_acc: 0.1060\n",
      "Epoch 10/10\n",
      " - 32s - loss: 2.3014 - acc: 0.1140 - val_loss: 2.3021 - val_acc: 0.1060\n",
      "Train on 48000 samples, validate on 12000 samples\n",
      "Epoch 1/10\n",
      " - 31s - loss: 2.2388 - acc: 0.3028 - val_loss: 2.1149 - val_acc: 0.4967\n",
      "Epoch 2/10\n",
      " - 31s - loss: 1.5653 - acc: 0.6652 - val_loss: 0.8425 - val_acc: 0.8035\n",
      "Epoch 3/10\n",
      " - 28s - loss: 0.6190 - acc: 0.8335 - val_loss: 0.4843 - val_acc: 0.8567\n",
      "Epoch 4/10\n",
      " - 28s - loss: 0.4378 - acc: 0.8719 - val_loss: 0.3659 - val_acc: 0.8892\n",
      "Epoch 5/10\n",
      " - 28s - loss: 0.3671 - acc: 0.8932 - val_loss: 0.3822 - val_acc: 0.8888\n",
      "Epoch 6/10\n",
      " - 27s - loss: 0.3162 - acc: 0.9080 - val_loss: 0.3152 - val_acc: 0.9096\n",
      "Epoch 7/10\n",
      " - 27s - loss: 0.3036 - acc: 0.9085 - val_loss: 0.2746 - val_acc: 0.9192\n",
      "Epoch 8/10\n",
      " - 31s - loss: 0.2661 - acc: 0.9215 - val_loss: 0.2606 - val_acc: 0.9232\n",
      "Epoch 9/10\n",
      " - 27s - loss: 0.3259 - acc: 0.9141 - val_loss: 6.7328 - val_acc: 0.2907\n",
      "Epoch 10/10\n",
      " - 31s - loss: 13.5880 - acc: 0.1433 - val_loss: 14.4096 - val_acc: 0.1060\n"
     ]
    },
    {
     "data": {
      "text/plain": [
       "<keras.callbacks.History at 0x7f996a971e48>"
      ]
     },
     "execution_count": 10,
     "metadata": {},
     "output_type": "execute_result"
    }
   ],
   "source": [
    "n_epochs = 10\n",
    "batch_size = 256\n",
    "validation_split = 0.2\n",
    "history_sigmoid = history_loss()\n",
    "model_sigmoid.fit(X_train, y_train, epochs=n_epochs, batch_size=batch_size, callbacks=[history_sigmoid], validation_split=validation_split, verbose=2)\n",
    "\n",
    "history_relu = history_loss()\n",
    "model_relu.fit(X_train, y_train, epochs=n_epochs, batch_size=batch_size, callbacks=[history_relu], validation_split=validation_split, verbose=2)\n"
   ]
  },
  {
   "cell_type": "markdown",
   "metadata": {},
   "source": [
    "- 绘制损失分布图"
   ]
  },
  {
   "cell_type": "code",
   "execution_count": 16,
   "metadata": {},
   "outputs": [
    {
     "data": {
      "image/png": "[encoded data removed]",
      "text/plain": [
       "<Figure size 432x288 with 1 Axes>"
      ]
     },
     "metadata": {
      "needs_background": "light"
     },
     "output_type": "display_data"
    }
   ],
   "source": [
    "\n",
    "plt.plot(np.arange(len(history_sigmoid.losses)), history_sigmoid.losses, label='sigmoid')\n",
    "plt.plot(np.arange(len(history_relu.losses)), history_relu.losses, label='relu')\n",
    "plt.title('Losses')\n",
    "plt.xlabel('number of batches')\n",
    "plt.ylabel('loss')\n",
    "plt.legend(loc=1)\n",
    "plt.show()"
   ]
  },
  {
   "cell_type": "markdown",
   "metadata": {},
   "source": [
    "- 提取每层模型的最大权重"
   ]
  },
  {
   "cell_type": "code",
   "execution_count": 19,
   "metadata": {},
   "outputs": [],
   "source": [
    "w_sigmoid = []\n",
    "w_relu = []\n",
    "for i in range(len(model_sigmoid.layers)):\n",
    "    w_sigmoid.append(max(model_sigmoid.layers[i].get_weights()[1]))\n",
    "    w_relu.append(max(model_relu.layers[i].get_weights()[1]))"
   ]
  },
  {
   "cell_type": "markdown",
   "metadata": {},
   "source": [
    "- 绘制两个模型的权重分布"
   ]
  },
  {
   "cell_type": "code",
   "execution_count": 20,
   "metadata": {},
   "outputs": [
    {
     "data": {
      "image/png": "[encoded data removed]",
      "text/plain": [
       "<Figure size 432x288 with 1 Axes>"
      ]
     },
     "metadata": {
      "needs_background": "light"
     },
     "output_type": "display_data"
    }
   ],
   "source": [
    "fig, ax = plt.subplots()\n",
    "index = np.arange(len(model_sigmoid.layers))\n",
    "bar_width = 0.35\n",
    "plt.bar(index, w_sigmoid, bar_width, label='sigmoid', color='b', alpha=0.4)\n",
    "plt.bar(index+bar_width, w_relu, bar_width, label='relu', color='r', alpha=0.4)\n",
    "plt.title('Weights across layers')\n",
    "plt.xlabel('layer number')\n",
    "plt.ylabel('max weight')\n",
    "plt.legend(loc=0)\n",
    "plt.xticks(index+bar_width/2, np.arange(8))\n",
    "plt.show()"
   ]
  },
  {
   "cell_type": "code",
   "execution_count": null,
   "metadata": {},
   "outputs": [],
   "source": []
  },
  {
   "cell_type": "code",
   "execution_count": null,
   "metadata": {},
   "outputs": [],
   "source": []
  },
  {
   "cell_type": "code",
   "execution_count": null,
   "metadata": {},
   "outputs": [],
   "source": []
  },
  {
   "cell_type": "code",
   "execution_count": null,
   "metadata": {},
   "outputs": [],
   "source": []
  },
  {
   "cell_type": "code",
   "execution_count": null,
   "metadata": {},
   "outputs": [],
   "source": []
  },
  {
   "cell_type": "code",
   "execution_count": null,
   "metadata": {},
   "outputs": [],
   "source": []
  },
  {
   "cell_type": "code",
   "execution_count": null,
   "metadata": {},
   "outputs": [],
   "source": []
  },
  {
   "cell_type": "code",
   "execution_count": null,
   "metadata": {},
   "outputs": [],
   "source": []
  },
  {
   "cell_type": "code",
   "execution_count": null,
   "metadata": {},
   "outputs": [],
   "source": []
  },
  {
   "cell_type": "code",
   "execution_count": null,
   "metadata": {},
   "outputs": [],
   "source": []
  },
  {
   "cell_type": "code",
   "execution_count": null,
   "metadata": {},
   "outputs": [],
   "source": []
  },
  {
   "cell_type": "code",
   "execution_count": null,
   "metadata": {},
   "outputs": [],
   "source": []
  },
  {
   "cell_type": "code",
   "execution_count": null,
   "metadata": {},
   "outputs": [],
   "source": []
  },
  {
   "cell_type": "code",
   "execution_count": null,
   "metadata": {},
   "outputs": [],
   "source": []
  }
 ],
 "metadata": {
  "kernelspec": {
   "display_name": "Python 3",
   "language": "python",
   "name": "python3"
  },
  "language_info": {
   "codemirror_mode": {
    "name": "ipython",
    "version": 3
   },
   "file_extension": ".py",
   "mimetype": "text/x-python",
   "name": "python",
   "nbconvert_exporter": "python",
   "pygments_lexer": "ipython3",
   "version": "3.6.8"
  }
 },
 "nbformat": 4,
 "nbformat_minor": 2
}
