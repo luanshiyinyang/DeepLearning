{
 "cells": [
  {
   "cell_type": "markdown",
   "metadata": {},
   "source": [
    "- 对监督学习而言，训练一个神经网络时，其目标是最小化损失函数。损失函数（也叫作误差函数、成本函数和优化函数）将预测结果与正向传播期间的基本事实进行比较。这个损失函数的输出用于优化反向传播期间的权重。因此，损失函数在训练网络中至关重要。通过设置正确的损失函数，使网络针对期望的预测进行优化。例如，对于不平衡的数据集，需要一个不同的损失函数。\n",
    "- 在之前的方案中，使用均方误差(MSE)和分类交叉熵作为损失函数，以及常见的其他损失函数，另一种是选择创建自定义损失函数。自定义损失函数可以优化到所需的输出。当实施**生成对抗网络(GAN)**时，这将变得更加重要。\n",
    "- 在下面的方案中，将训练分为有调整权重和无调整权重的网络体系结构，按此来计算不平衡类别的损失函数。"
   ]
  },
  {
   "cell_type": "code",
   "execution_count": 7,
   "metadata": {},
   "outputs": [],
   "source": [
    "import numpy as np\n",
    "import matplotlib.pyplot as plt\n",
    "from sklearn.metrics import confusion_matrix\n",
    "\n",
    "from keras.datasets import mnist\n",
    "from keras.models import Sequential\n",
    "from keras.layers import Dense, Dropout\n",
    "from keras.optimizers import Adam\n",
    "from keras.callbacks import EarlyStopping\n",
    "(X_train, y_train), (X_test, y_test) = mnist.load_data(\"/home/zhouchen/Jupyter/前馈神经网络/data/mnist.npz\", )"
   ]
  },
  {
   "cell_type": "code",
   "execution_count": 8,
   "metadata": {},
   "outputs": [],
   "source": [
    "y_train_9 = y_train[y_train == 9]\n",
    "y_train_4 = y_train[y_train == 4][:100]\n",
    "X_train_9 = X_train[y_train == 9]\n",
    "X_train_4 = X_train[y_train == 4][:100]\n",
    "X_train = np.concatenate((X_train_9, X_train_4), axis=0)\n",
    "y_train = np.concatenate((y_train_9, y_train_4), axis=0)\n",
    "\n",
    "y_test_9 = y_test[y_test == 9]\n",
    "y_test_4 = y_test[y_test == 4]\n",
    "X_test_9 = X_test[y_test == 9]\n",
    "X_test_4 = X_test[y_test == 4]\n",
    "X_test = np.concatenate((X_test_9, X_test_4), axis=0)\n",
    "y_test = np.concatenate((y_test_9, y_test_4), axis=0)"
   ]
  },
  {
   "cell_type": "code",
   "execution_count": 9,
   "metadata": {},
   "outputs": [],
   "source": [
    "# 标准化和扁平化数据\n",
    "X_train = X_train.astype('float32') / 255\n",
    "X_test = X_test.astype('float32') / 255\n",
    "X_train = X_train.reshape(len(X_train), np.prod(X_train.shape[1:]))\n",
    "X_test = X_test.reshape(len(X_test), np.prod(X_test.shape[1:]))"
   ]
  },
  {
   "cell_type": "code",
   "execution_count": 10,
   "metadata": {},
   "outputs": [
    {
     "name": "stdout",
     "output_type": "stream",
     "text": [
      "(array([False,  True]), array([ 100, 5949]))\n"
     ]
    }
   ],
   "source": [
    "# 将目标转化为二进制分类问题并输出显示计数\n",
    "y_train_binary = y_train == 9\n",
    "y_test_binary = y_test == 9\n",
    "print(np.unique(y_train_binary, return_counts=True))"
   ]
  },
  {
   "cell_type": "code",
   "execution_count": 13,
   "metadata": {},
   "outputs": [],
   "source": [
    "# 定义网络体系结构并编译\n",
    "model = Sequential()\n",
    "model.add(Dense(512, input_dim=X_train.shape[1], activation='relu'))\n",
    "model.add(Dropout(0.75))\n",
    "model.add(Dense(512, activation='relu'))\n",
    "model.add(Dropout(0.75))\n",
    "model.add(Dense(128, activation='relu'))\n",
    "model.add(Dropout(0.75))\n",
    "model.add(Dense(128, activation='relu'))\n",
    "model.add(Dense(1, activation='sigmoid'))\n",
    "opt = Adam()\n",
    "model.compile(loss='binary_crossentropy', optimizer=opt, metrics=['binary_accuracy'])\n"
   ]
  },
  {
   "cell_type": "code",
   "execution_count": 14,
   "metadata": {},
   "outputs": [],
   "source": [
    "# 创建一个回调函数来使用早停法\n",
    "callbacks = [EarlyStopping(monitor='val_loss', patience=5)]"
   ]
  },
  {
   "cell_type": "code",
   "execution_count": 15,
   "metadata": {},
   "outputs": [],
   "source": [
    "# 定义每个类的损失权重\n",
    "class_weight_equal = {False: 1, True: 1}\n",
    "class_weight_imbalanced = {False: 100, True: 1}"
   ]
  },
  {
   "cell_type": "code",
   "execution_count": 16,
   "metadata": {},
   "outputs": [
    {
     "data": {
      "text/plain": [
       "<keras.callbacks.History at 0x7fc86f614a58>"
      ]
     },
     "execution_count": 16,
     "metadata": {},
     "output_type": "execute_result"
    }
   ],
   "source": [
    "# 对两个类训练相同权重的模型\n",
    "n_epochs = 1000\n",
    "batch_size = 512\n",
    "validation_split = 0.01\n",
    "\n",
    "model.fit(X_train, y_train_binary, epochs=n_epochs, batch_size=batch_size, shuffle=True, validation_split=validation_split, class_weight=class_weight_equal, callbacks=callbacks, verbose=0)\n"
   ]
  },
  {
   "cell_type": "code",
   "execution_count": 17,
   "metadata": {},
   "outputs": [
    {
     "data": {
      "text/plain": [
       "array([[1009,    0],\n",
       "       [ 982,    0]])"
      ]
     },
     "execution_count": 17,
     "metadata": {},
     "output_type": "execute_result"
    }
   ],
   "source": [
    "# 在测试集上进行测试并输出混淆矩阵\n",
    "preds_equal = model.predict(X_test)\n",
    "confusion_matrix(y_test_binary, np.round(preds_equal), labels=[True, False])"
   ]
  },
  {
   "cell_type": "code",
   "execution_count": 18,
   "metadata": {},
   "outputs": [
    {
     "data": {
      "text/plain": [
       "array([[1009,    0],\n",
       "       [ 821,  161]])"
      ]
     },
     "execution_count": 18,
     "metadata": {},
     "output_type": "execute_result"
    }
   ],
   "source": [
    "# 用不平衡的权重训练\n",
    "model.compile(loss='binary_crossentropy', optimizer='rmsprop', metrics=['binary_accuracy'])\n",
    "model.fit(X_train, y_train_binary, epochs=n_epochs, batch_size=batch_size, shuffle=True, validation_split=validation_split, class_weight=class_weight_imbalanced, callbacks=callbacks, verbose=0)\n",
    "preds_imbalanced = model.predict(X_test)\n",
    "confusion_matrix(y_test_binary, np.round(preds_imbalanced), labels=[True, False])"
   ]
  }
 ],
 "metadata": {
  "kernelspec": {
   "display_name": "Python 3",
   "language": "python",
   "name": "python3"
  },
  "language_info": {
   "codemirror_mode": {
    "name": "ipython",
    "version": 3
   },
   "file_extension": ".py",
   "mimetype": "text/x-python",
   "name": "python",
   "nbconvert_exporter": "python",
   "pygments_lexer": "ipython3",
   "version": "3.6.8"
  }
 },
 "nbformat": 4,
 "nbformat_minor": 2
}
