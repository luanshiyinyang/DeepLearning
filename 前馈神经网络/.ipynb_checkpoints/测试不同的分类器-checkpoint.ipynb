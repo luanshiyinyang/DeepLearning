{
 "cells": [
  {
   "cell_type": "code",
   "execution_count": 1,
   "metadata": {},
   "outputs": [],
   "source": [
    "import numpy as np\n",
    "import pandas as pd\n",
    "\n",
    "from sklearn.model_selection import train_test_split\n",
    "from keras.models import Sequential\n",
    "from keras.layers import Dense, Dropout\n",
    "from keras.callbacks import EarlyStopping, ModelCheckpoint\n",
    "from keras.optimizers import SGD, Adadelta, Adam, RMSprop, Adagrad, Nadam, Adamax\n",
    "\n",
    "data = pd.read_csv('data/winequality-red.csv')\n",
    "y = data['quality']\n",
    "X = data.drop(['quality'], axis=1)"
   ]
  },
  {
   "cell_type": "code",
   "execution_count": 8,
   "metadata": {},
   "outputs": [],
   "source": [
    "# 拆分数据集\n",
    "X_train, X_test, y_train, y_test = train_test_split(X, y, test_size=0.2, random_state=2017)\n",
    "X_train, X_val, y_tarin, y_val = train_test_split(X, y, test_size=0.2, random_state=2017)"
   ]
  },
  {
   "cell_type": "code",
   "execution_count": 9,
   "metadata": {},
   "outputs": [],
   "source": [
    "# 定义一个创建模型的函数\n",
    "def create_model(opt):\n",
    "    model = Sequential()\n",
    "    model.add(Dense(100, input_dim=X_train.shape[1], activation='relu'))\n",
    "    model.add(Dense(50, activation='relu'))\n",
    "    model.add(Dense(25, activation='relu'))\n",
    "    model.add(Dense(10, activation='relu'))\n",
    "    model.add(Dense(1, activation='linear'))\n",
    "    return model\n"
   ]
  },
  {
   "cell_type": "code",
   "execution_count": 10,
   "metadata": {},
   "outputs": [],
   "source": [
    "# 定义一个训练期间使用的回调函数\n",
    "def create_callbacks(opt):\n",
    "    callbacks = [\n",
    "        EarlyStopping(monitor='val_acc', patience=200, verbose=2),\n",
    "        ModelCheckpoint('best_model_'+opt+'.h5', monitor='val_acc', save_best_only=True, verbose=0)\n",
    "        \n",
    "    ]\n",
    "    return callbacks\n"
   ]
  },
  {
   "cell_type": "code",
   "execution_count": 11,
   "metadata": {},
   "outputs": [],
   "source": [
    "opts = dict({\n",
    "    'sgd': SGD(),\n",
    "    'sgd-0001': SGD(lr=0.0001, decay=0.00001),\n",
    "    'adam': Adam(),\n",
    "    'adadelta': Adadelta(),\n",
    "    'rmsprop': RMSprop(),\n",
    "    'rmsprop-0001': RMSprop(lr=0.0001),\n",
    "    'nadam': Nadam(),\n",
    "    'adamax': Adamax(),\n",
    "}\n",
    ")"
   ]
  },
  {
   "cell_type": "code",
   "execution_count": 12,
   "metadata": {},
   "outputs": [
    {
     "name": "stdout",
     "output_type": "stream",
     "text": [
      "Epoch 00201: early stopping\n",
      "Epoch 00568: early stopping\n",
      "Epoch 00482: early stopping\n",
      "Epoch 00790: early stopping\n",
      "Epoch 00543: early stopping\n",
      "Epoch 00754: early stopping\n",
      "Epoch 00517: early stopping\n",
      "Epoch 01089: early stopping\n"
     ]
    }
   ],
   "source": [
    "# 训练网络并存储结果\n",
    "results = []\n",
    "for opt in opts:\n",
    "    model = create_model(opt)\n",
    "    callbacks = create_callbacks(opt)\n",
    "    model.compile(loss='mse', optimizer=opts[opt], metrics=['accuracy'])\n",
    "    hist = model.fit(X_train.values, y_train, batch_size=128, epochs=5000, validation_data=(X_val.values, y_val), verbose=0, callbacks=callbacks)\n",
    "    best_epoch = np.argmax(hist.history['val_acc'])\n",
    "    best_acc = hist.history['val_acc'][best_epoch]\n",
    "    best_model = create_model(opt)\n",
    "    # 加载具有最高验证精度的模型\n",
    "    best_model.load_weights('best_model_'+opt+'.h5')\n",
    "    best_model.compile(loss='mse', optimizer=opts[opt], metrics=['accuracy'])\n",
    "    score = best_model.evaluate(X_test.values, y_test, verbose=0)\n",
    "    results.append([opt, best_epoch, best_acc, score[1]])"
   ]
  },
  {
   "cell_type": "code",
   "execution_count": 13,
   "metadata": {},
   "outputs": [
    {
     "name": "stdout",
     "output_type": "stream",
     "text": [
      "      optimizer  epochs  val_accuracy  test_accuracy\n",
      "0           sgd       0      0.000000       0.000000\n",
      "1      sgd-0001     367      0.584375       0.584375\n",
      "2          adam     281      0.650000       0.650000\n",
      "3      adadelta     589      0.634375       0.634375\n",
      "4       rmsprop     342      0.637500       0.637500\n",
      "5  rmsprop-0001     553      0.621875       0.621875\n",
      "6         nadam     316      0.637500       0.637500\n",
      "7        adamax     888      0.650000       0.650000\n"
     ]
    }
   ],
   "source": [
    "# 比较结果\n",
    "res = pd.DataFrame(results)\n",
    "res.columns = ['optimizer', 'epochs', 'val_accuracy', 'test_accuracy']\n",
    "print(res)"
   ]
  },
  {
   "cell_type": "markdown",
   "metadata": {},
   "source": [
    "- 写于最后\n",
    "    - 后面我会解释如何使用网格搜索来进行参数调优。\n",
    "    - 网格搜索会寻找合适的优化器来调整神经网络学习过程。"
   ]
  }
 ],
 "metadata": {
  "kernelspec": {
   "display_name": "Python 3",
   "language": "python",
   "name": "python3"
  },
  "language_info": {
   "codemirror_mode": {
    "name": "ipython",
    "version": 3
   },
   "file_extension": ".py",
   "mimetype": "text/x-python",
   "name": "python",
   "nbconvert_exporter": "python",
   "pygments_lexer": "ipython3",
   "version": "3.6.8"
  }
 },
 "nbformat": 4,
 "nbformat_minor": 2
}
