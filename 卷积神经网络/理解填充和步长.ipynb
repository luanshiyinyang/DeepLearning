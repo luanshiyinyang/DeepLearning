{
 "cells": [
  {
   "cell_type": "code",
   "execution_count": 2,
   "metadata": {},
   "outputs": [
    {
     "name": "stderr",
     "output_type": "stream",
     "text": [
      "Using TensorFlow backend.\n"
     ]
    }
   ],
   "source": [
    "import glob\n",
    "import numpy as np\n",
    "import cv2\n",
    "from matplotlib import pyplot as plt\n",
    "from sklearn.model_selection import train_test_split\n",
    "\n",
    "from keras.utils import np_utils\n",
    "from keras.models import Sequential\n",
    "from keras.layers.core import Dense, Dropout, Activation, Flatten, Lambda\n",
    "from keras.optimizers import Adam\n",
    "from keras.callbacks import EarlyStopping\n",
    "from keras.layers import Conv2D, MaxPooling2D\n",
    "\n",
    "SEED = 2017"
   ]
  },
  {
   "cell_type": "code",
   "execution_count": null,
   "metadata": {},
   "outputs": [],
   "source": [
    "# Kaggle比赛数据集\n",
    "# downloaded at https://www.kaggle.com/c/dogs-vs-cats-redux-kernels-edition/data"
   ]
  },
  {
   "cell_type": "code",
   "execution_count": null,
   "metadata": {},
   "outputs": [],
   "source": [
    "DATA_DIR = '../Data/PetImages/'\n",
    "cats = glob.glob(DATA_DIR + \"Cat/*.jpg\")\n",
    "dogs = glob.glob(DATA_DIR + \"Dog/*.jpg\")\n",
    "\n",
    "print('#Cats: {}, #Dogs: {}'.format(len(cats), len(dogs)))"
   ]
  },
  {
   "cell_type": "code",
   "execution_count": null,
   "metadata": {},
   "outputs": [],
   "source": [
    "dogs_train, dogs_val, cats_train, cats_val = train_test_split(dogs, cats, test_size=0.2, random_state=SEED)"
   ]
  },
  {
   "cell_type": "code",
   "execution_count": null,
   "metadata": {},
   "outputs": [],
   "source": [
    "n_examples = 3\n",
    "plt.figure(figsize=(15, 15))\n",
    "i = 1\n",
    "for _ in range(n_examples):\n",
    "    image_cat = cats_train[np.random.randint(len(cats_train))]\n",
    "    img_cat = cv2.imread(image_cat)\n",
    "    img_cat = cv2.cvtColor(img_cat, cv2.COLOR_BGR2RGB)\n",
    "    plt.subplot(3, 2, i)\n",
    "    _ = plt.imshow(img_cat)\n",
    "    i += 1\n",
    "    image_dog = dogs_train[np.random.randint(len(dogs_train))]\n",
    "    img_dog = cv2.imread(image_dog)\n",
    "    img_dog = cv2.cvtColor(img_dog, cv2.COLOR_BGR2RGB)\n",
    "    plt.subplot(3, 2, i)\n",
    "    i += 1\n",
    "    _ = plt.imshow(img_dog)\n",
    "plt.show()"
   ]
  },
  {
   "cell_type": "code",
   "execution_count": null,
   "metadata": {},
   "outputs": [],
   "source": [
    "def batchgen(cats, dogs, batch_size, img_size=50):\n",
    "    # Create empty numpy arrays\n",
    "    batch_images = np.zeros((batch_size, img_size, img_size, 3))\n",
    "    batch_label = np.zeros(batch_size)\n",
    "\n",
    "    # Custom batch generator \n",
    "    while 1:\n",
    "        n = 0\n",
    "        while n < batch_size:\n",
    "            # Randomly pick a dog or cat image\n",
    "            if np.random.randint(2) == 1:\n",
    "                i = np.random.randint(len(dogs))\n",
    "                img = cv2.imread(dogs[i])\n",
    "                if img is None:\n",
    "                    break\n",
    "                img = cv2.cvtColor(img, cv2.COLOR_BGR2RGB)\n",
    "                # The images have different dimensions, we resize all to 100x100\n",
    "                img = cv2.resize(img, (img_size, img_size), interpolation = cv2.INTER_AREA)\n",
    "                y = 1\n",
    "\n",
    "            else:\n",
    "                i = np.random.randint(len(cats))\n",
    "                img = cv2.imread(cats[i])\n",
    "                if img is None:\n",
    "                    break\n",
    "                img = cv2.cvtColor(img, cv2.COLOR_BGR2RGB)\n",
    "                img = cv2.resize(img, (img_size, img_size), interpolation = cv2.INTER_AREA)\n",
    "                y = 0\n",
    "        \n",
    "            batch_images[n] = img\n",
    "            batch_label[n] = y\n",
    "            n+=1\n",
    "        yield batch_images, batch_label"
   ]
  },
  {
   "cell_type": "code",
   "execution_count": null,
   "metadata": {},
   "outputs": [],
   "source": [
    "def create_model(stride=1, padding='same', img_size=100):\n",
    "    # Define architecture\n",
    "    model = Sequential()\n",
    "    model.add(Lambda(lambda x: (x / 255.) - 0.5, input_shape=(img_size, img_size, 3)))\n",
    "    model.add(Conv2D(32, (3, 3), activation='relu', padding=padding, strides=stride))\n",
    "    model.add(Conv2D(32, (3, 3), activation='relu', padding=padding, strides=stride))\n",
    "    model.add(MaxPooling2D(pool_size=(2,2)))\n",
    "    model.add(Dropout(0.5))\n",
    "    model.add(Conv2D(64, (3, 3), activation='relu', padding=padding, strides=stride))\n",
    "    model.add(Conv2D(64, (3, 3), activation='relu', padding=padding, strides=stride))\n",
    "    \n",
    "    model.add(Dropout(0.5))\n",
    "    model.add(Flatten())\n",
    "    model.add(Dense(64, activation='relu'))\n",
    "    model.add(Dropout(0.5))\n",
    "    model.add(Dense(1, activation='sigmoid'))\n",
    "    \n",
    "    opt = Adam(0.001)\n",
    "    model.compile(loss='binary_crossentropy', optimizer=opt, metrics=['binary_accuracy'])\n",
    "    \n",
    "    return model"
   ]
  },
  {
   "cell_type": "code",
   "execution_count": null,
   "metadata": {},
   "outputs": [],
   "source": [
    "img_size = 100\n",
    "\n",
    "models = []\n",
    "for stride in [1, 2]:\n",
    "    for padding in ['same', 'valid']:\n",
    "        model = create_model(stride, padding, img_size)\n",
    "        pars = model.count_params()\n",
    "        models.append(dict({'setting': '{}_{}'.format(stride, padding), \n",
    "                'model': model,\n",
    "                'parameters': pars\n",
    "                }))"
   ]
  },
  {
   "cell_type": "code",
   "execution_count": null,
   "metadata": {},
   "outputs": [],
   "source": [
    "models[0]['model'].summary()"
   ]
  },
  {
   "cell_type": "code",
   "execution_count": null,
   "metadata": {},
   "outputs": [],
   "source": [
    "callbacks = [EarlyStopping(monitor='val_binary_accuracy', patience=5)]"
   ]
  },
  {
   "cell_type": "code",
   "execution_count": null,
   "metadata": {},
   "outputs": [],
   "source": [
    "batch_size = 512\n",
    "n_epochs = 500\n",
    "validation_steps = round((len(dogs_val)+len(cats_val))/batch_size)\n",
    "steps_per_epoch = round((len(dogs_train)+len(cats_train))/batch_size)\n",
    "\n",
    "train_generator = batchgen(dogs_train, cats_train, batch_size, img_size)\n",
    "val_generator = batchgen(dogs_val, cats_val, batch_size, img_size)\n",
    "\n",
    "history = []\n",
    "for i in range(len(models)):\n",
    "    print(models[i])\n",
    "    history.append(\n",
    "        models[i]['model'].\n",
    "        fit_generator(train_generator, steps_per_epoch=steps_per_epoch, epochs=n_epochs, \n",
    "                            validation_data=val_generator, validation_steps=validation_steps,\n",
    "                            callbacks=callbacks\n",
    "                           )\n",
    "    )"
   ]
  },
  {
   "cell_type": "code",
   "execution_count": null,
   "metadata": {},
   "outputs": [],
   "source": [
    "for i in range(len(models)):\n",
    "    plt.plot(range(len(history[i].history['val_binary_accuracy'])), history[i].history['val_binary_accuracy'], label=models[i]['setting'])\n",
    "    print('Max accuracy model {}: {}'.format(models[i]['setting'], max(history[i].history['val_binary_accuracy'])))\n",
    "plt.title('Validation accuracy')\n",
    "plt.xlabel('epochs')\n",
    "plt.ylabel('accuracy')\n",
    "plt.legend()\n",
    "plt.show()"
   ]
  },
  {
   "cell_type": "code",
   "execution_count": null,
   "metadata": {},
   "outputs": [],
   "source": [
    "for i in range(len(models)):\n",
    "    plt.plot(range(len(history[i].history['val_binary_accuracy'])), history[i].history['val_binary_accuracy'], label=models[i]['setting'])\n",
    "    print('Max accuracy model {}: {} (#parameters: {})'.format(models[i]['setting'], max(history[i].history['val_binary_accuracy']), models[i]['parameters']))"
   ]
  }
 ],
 "metadata": {
  "kernelspec": {
   "display_name": "Python 3",
   "language": "python",
   "name": "python3"
  },
  "language_info": {
   "codemirror_mode": {
    "name": "ipython",
    "version": 3
   },
   "file_extension": ".py",
   "mimetype": "text/x-python",
   "name": "python",
   "nbconvert_exporter": "python",
   "pygments_lexer": "ipython3",
   "version": "3.6.8"
  }
 },
 "nbformat": 4,
 "nbformat_minor": 2
}
