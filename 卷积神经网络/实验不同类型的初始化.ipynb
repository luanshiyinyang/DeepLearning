{
 "cells": [
  {
   "cell_type": "code",
   "execution_count": 1,
   "metadata": {},
   "outputs": [
    {
     "name": "stderr",
     "output_type": "stream",
     "text": [
      "Using TensorFlow backend.\n"
     ]
    }
   ],
   "source": [
    "import glob\n",
    "import numpy as np\n",
    "import cv2\n",
    "from matplotlib import pyplot as plt\n",
    "from sklearn.model_selection import train_test_split\n",
    "\n",
    "from keras.utils import np_utils\n",
    "from keras import utils, losses, optimizers\n",
    "from keras.models import Sequential\n",
    "from keras.layers.core import Dense, Dropout, Activation, Flatten, Lambda\n",
    "from keras.callbacks import EarlyStopping, ModelCheckpoint\n",
    "from keras.layers import Conv2D, MaxPooling2D\n",
    "\n",
    "SEED = 2017"
   ]
  },
  {
   "cell_type": "code",
   "execution_count": null,
   "metadata": {},
   "outputs": [],
   "source": [
    "# Specify data directory and extract all file names for both classes\n",
    "DATA_DIR = 'Data/PetImages/'\n",
    "cats = glob.glob(DATA_DIR + \"Cat/*.jpg\")\n",
    "dogs = glob.glob(DATA_DIR + \"Dog/*.jpg\")\n",
    "\n",
    "print('#Cats: {}, #Dogs: {}'.format(len(cats), len(dogs)))\n",
    "# #Cats: 12500, #Dogs: 12500"
   ]
  },
  {
   "cell_type": "code",
   "execution_count": null,
   "metadata": {},
   "outputs": [],
   "source": [
    "dogs_train, dogs_val, cats_train, cats_val = train_test_split(dogs, cats, test_size=0.2, random_state=SEED)"
   ]
  },
  {
   "cell_type": "code",
   "execution_count": null,
   "metadata": {},
   "outputs": [],
   "source": [
    "def batchgen(cats, dogs, batch_size, img_size=50):\n",
    "    # Create empty numpy arrays\n",
    "    batch_images = np.zeros((batch_size, img_size, img_size, 3))\n",
    "    batch_label = np.zeros(batch_size)\n",
    "\n",
    "    # Custom batch generator \n",
    "    while 1:\n",
    "        n = 0\n",
    "        while n < batch_size:\n",
    "            # Randomly pick a dog or cat image\n",
    "            if np.random.randint(2) == 1:\n",
    "                i = np.random.randint(len(dogs))\n",
    "                img = cv2.imread(dogs[i])\n",
    "                if img is None:\n",
    "                    break\n",
    "                img = cv2.cvtColor(img, cv2.COLOR_BGR2RGB)\n",
    "                # The images have different dimensions, we resize all to 100x100\n",
    "                img = cv2.resize(img, (img_size, img_size), interpolation = cv2.INTER_AREA)\n",
    "                y = 1\n",
    "\n",
    "            else:\n",
    "                i = np.random.randint(len(cats))\n",
    "                img = cv2.imread(cats[i])\n",
    "                if img is None:\n",
    "                    break\n",
    "                img = cv2.cvtColor(img, cv2.COLOR_BGR2RGB)\n",
    "                img = cv2.resize(img, (img_size, img_size), interpolation = cv2.INTER_AREA)\n",
    "                y = 0\n",
    "        \n",
    "            batch_images[n] = img\n",
    "            batch_label[n] = y\n",
    "            n+=1\n",
    "        yield batch_images, batch_label"
   ]
  },
  {
   "cell_type": "code",
   "execution_count": null,
   "metadata": {},
   "outputs": [],
   "source": [
    "def create_model(init_type='xavier', img_size=100):\n",
    "    # Define architecture\n",
    "    model = Sequential()\n",
    "    model.add(Lambda(lambda x: (x / 255.) - 0.5, input_shape=(img_size, img_size, 3)))\n",
    "    model.add(Conv2D(32, (3, 3), activation='relu', kernel_initializer=init_type))\n",
    "    model.add(Conv2D(32, (3, 3), activation='relu', kernel_initializer=init_type))\n",
    "    model.add(MaxPooling2D(pool_size=(2,2)))\n",
    "    model.add(Dropout(0.5))\n",
    "    model.add(Conv2D(64, (3, 3), activation='relu', kernel_initializer=init_type))\n",
    "    model.add(Conv2D(64, (3, 3), activation='relu', kernel_initializer=init_type))\n",
    "\n",
    "    model.add(Dropout(0.5))\n",
    "    model.add(Flatten())\n",
    "    model.add(Dense(64, activation='relu'))\n",
    "    model.add(Dropout(0.5))\n",
    "    model.add(Dense(1, activation='sigmoid'))\n",
    " \n",
    "    sgd = optimizers.Adam()\n",
    "    model.compile(loss='binary_crossentropy', optimizer=sgd, metrics=['binary_accuracy'])\n",
    " \n",
    "    return model"
   ]
  },
  {
   "cell_type": "code",
   "execution_count": null,
   "metadata": {},
   "outputs": [],
   "source": [
    "models = []\n",
    "for init_type in ['random_uniform', 'glorot_normal', 'glorot_uniform', 'lecun_uniform', 'he_uniform']:\n",
    "    model = create_model(init_type, img_size=50)\n",
    "    models.append(dict({'setting': '{}'.format(init_type), \n",
    "            'model': model\n",
    "            }))"
   ]
  },
  {
   "cell_type": "code",
   "execution_count": null,
   "metadata": {},
   "outputs": [],
   "source": [
    "callbacks = [EarlyStopping(monitor='val_binary_accuracy', patience=3)]"
   ]
  },
  {
   "cell_type": "code",
   "execution_count": null,
   "metadata": {},
   "outputs": [],
   "source": [
    "batch_size = 512\n",
    "n_epochs = 500\n",
    "steps_per_epoch = 100\n",
    "validation_steps = round((len(dogs_val)+len(cats_val))/batch_size)\n",
    "\n",
    "train_generator = batchgen(dogs_train, cats_train, batch_size)\n",
    "val_generator = batchgen(dogs_val, cats_val, batch_size)\n",
    "\n",
    "history = []\n",
    "for i in range(len(models)):\n",
    "    print(models[i])\n",
    "    history.append(\n",
    "        models[i]['model'].\n",
    "        fit_generator(train_generator, steps_per_epoch=steps_per_epoch, epochs=n_epochs, validation_data=val_generator, validation_steps=validation_steps, callbacks=callbacks)\n",
    "    )"
   ]
  },
  {
   "cell_type": "code",
   "execution_count": null,
   "metadata": {},
   "outputs": [],
   "source": [
    "for i in range(len(models)):\n",
    "    plt.plot(range(len(history[i].history['val_binary_accuracy'])), history[i].history['val_binary_accuracy'], label=models[i]['setting'])\n",
    "    print('Max accuracy model {}: {}'.format(models[i]['setting'], max(history[i].history['val_binary_accuracy'])))\n",
    "plt.title('Accuracy on the validation set')\n",
    "plt.xlabel('epochs')\n",
    "plt.ylabel('accuracy')\n",
    "plt.legend()\n",
    "plt.show()"
   ]
  }
 ],
 "metadata": {
  "kernelspec": {
   "display_name": "Python 3",
   "language": "python",
   "name": "python3"
  },
  "language_info": {
   "codemirror_mode": {
    "name": "ipython",
    "version": 3
   },
   "file_extension": ".py",
   "mimetype": "text/x-python",
   "name": "python",
   "nbconvert_exporter": "python",
   "pygments_lexer": "ipython3",
   "version": "3.6.8"
  }
 },
 "nbformat": 4,
 "nbformat_minor": 2
}
