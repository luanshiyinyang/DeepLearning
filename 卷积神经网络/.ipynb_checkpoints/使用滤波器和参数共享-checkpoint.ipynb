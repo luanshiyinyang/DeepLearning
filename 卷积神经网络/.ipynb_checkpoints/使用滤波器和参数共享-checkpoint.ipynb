{
 "cells": [
  {
   "cell_type": "code",
   "execution_count": 17,
   "metadata": {},
   "outputs": [],
   "source": [
    "import numpy as np\n",
    "import matplotlib.pyplot as plt\n",
    "from keras.utils.np_utils import to_categorical\n",
    "from keras.models import Sequential\n",
    "from keras.layers.core import Dense, Dropout, Flatten\n",
    "from keras.layers import Conv2D\n",
    "from keras.optimizers import Adam\n",
    "from keras.datasets import mnist\n",
    "from keras import losses\n",
    "from keras.callbacks import EarlyStopping"
   ]
  },
  {
   "cell_type": "code",
   "execution_count": 45,
   "metadata": {},
   "outputs": [],
   "source": [
    "# 导入数据集\n",
    "(X_train, y_train), (X_test, y_test) = mnist.load_data('/home/zhouchen/Jupyter/卷积神经网络/data/mnist.npz')"
   ]
  },
  {
   "cell_type": "code",
   "execution_count": 46,
   "metadata": {},
   "outputs": [],
   "source": [
    "# 调整训练数据为单通道图像输入\n",
    "img_rows, img_cols = X_train[0].shape[0], X_train[0].shape[1]\n",
    "X_train = X_train.reshape(X_train.shape[0], img_rows, img_cols, 1)\n",
    "X_test = X_test.reshape(X_test.shape[0], img_rows, img_cols, 1)\n",
    "input_shape = (img_rows, img_cols, 1)"
   ]
  },
  {
   "cell_type": "code",
   "execution_count": 47,
   "metadata": {},
   "outputs": [],
   "source": [
    "# 标准化数据\n",
    "X_train = X_train.astype('float32')/255\n",
    "X_test = X_test.astype('float32')/255"
   ]
  },
  {
   "cell_type": "code",
   "execution_count": 48,
   "metadata": {},
   "outputs": [
    {
     "name": "stdout",
     "output_type": "stream",
     "text": [
      "[[0. 0. 0. ... 0. 0. 0.]\n",
      " [1. 0. 0. ... 0. 0. 0.]\n",
      " [0. 0. 0. ... 0. 0. 0.]\n",
      " ...\n",
      " [0. 0. 0. ... 0. 0. 0.]\n",
      " [0. 0. 0. ... 0. 0. 0.]\n",
      " [0. 0. 0. ... 0. 1. 0.]]\n"
     ]
    }
   ],
   "source": [
    "# label进行one-hot编码\n",
    "n_classes = len(set(y_train))\n",
    "y_train = to_categorical(y_train, n_classes)\n",
    "print(y_train)\n",
    "y_test = to_categorical(y_test, n_classes)"
   ]
  },
  {
   "cell_type": "code",
   "execution_count": 16,
   "metadata": {},
   "outputs": [],
   "source": [
    "# 定义CNN结构\n",
    "model = Sequential()\n",
    "model.add(Conv2D(32, kernel_size=(3, 3), activation='relu', input_shape=input_shape))\n",
    "model.add(Conv2D(64, kernel_size=(3, 3), activation='relu'))\n",
    "model.add(Conv2D(128, kernel_size=(3, 3), activation='relu'))\n",
    "model.add(Dropout(0.5))\n",
    "model.add(Flatten())\n",
    "model.add(Dense(128, activation='relu'))\n",
    "model.add(Dropout(0.5))\n",
    "model.add(Dense(n_classes, activation='softmax'))\n",
    "opt = Adam()\n",
    "model.compile(loss=losses.categorical_crossentropy, optimizer=opt, metrics=['accuracy'])"
   ]
  },
  {
   "cell_type": "code",
   "execution_count": 18,
   "metadata": {},
   "outputs": [],
   "source": [
    "# 设置超参数\n",
    "batch_size = 128\n",
    "n_epochs = 11\n",
    "callbacks = [EarlyStopping(monitor='val_acc', patience=5)]"
   ]
  },
  {
   "cell_type": "code",
   "execution_count": 19,
   "metadata": {},
   "outputs": [
    {
     "name": "stdout",
     "output_type": "stream",
     "text": [
      "Train on 48000 samples, validate on 12000 samples\n",
      "Epoch 1/11\n",
      "48000/48000 [==============================] - 451s 9ms/step - loss: 0.2150 - acc: 0.9355 - val_loss: 0.0574 - val_acc: 0.9837\n",
      "Epoch 2/11\n",
      "48000/48000 [==============================] - 424s 9ms/step - loss: 0.0762 - acc: 0.9773 - val_loss: 0.0443 - val_acc: 0.9869\n",
      "Epoch 3/11\n",
      "48000/48000 [==============================] - 442s 9ms/step - loss: 0.0570 - acc: 0.9825 - val_loss: 0.0374 - val_acc: 0.9892\n",
      "Epoch 4/11\n",
      "48000/48000 [==============================] - 435s 9ms/step - loss: 0.0452 - acc: 0.9856 - val_loss: 0.0440 - val_acc: 0.9863\n",
      "Epoch 5/11\n",
      "48000/48000 [==============================] - 464s 10ms/step - loss: 0.0401 - acc: 0.9876 - val_loss: 0.0359 - val_acc: 0.9904\n",
      "Epoch 6/11\n",
      "48000/48000 [==============================] - 446s 9ms/step - loss: 0.0287 - acc: 0.9906 - val_loss: 0.0392 - val_acc: 0.9893\n",
      "Epoch 7/11\n",
      "48000/48000 [==============================] - 440s 9ms/step - loss: 0.0250 - acc: 0.9920 - val_loss: 0.0451 - val_acc: 0.9892\n",
      "Epoch 8/11\n",
      "48000/48000 [==============================] - 430s 9ms/step - loss: 0.0221 - acc: 0.9927 - val_loss: 0.0381 - val_acc: 0.9902\n",
      "Epoch 9/11\n",
      "48000/48000 [==============================] - 445s 9ms/step - loss: 0.0207 - acc: 0.9931 - val_loss: 0.0412 - val_acc: 0.9904\n",
      "Epoch 10/11\n",
      "48000/48000 [==============================] - 454s 9ms/step - loss: 0.0195 - acc: 0.9939 - val_loss: 0.0445 - val_acc: 0.9903\n"
     ]
    },
    {
     "data": {
      "text/plain": [
       "<keras.callbacks.History at 0x7fa8c8e411d0>"
      ]
     },
     "execution_count": 19,
     "metadata": {},
     "output_type": "execute_result"
    }
   ],
   "source": [
    "# 训练模型\n",
    "model.fit(X_train, y_train, batch_size=batch_size, epochs=n_epochs, verbose=1, validation_split=0.2, callbacks=callbacks)"
   ]
  },
  {
   "cell_type": "code",
   "execution_count": 49,
   "metadata": {},
   "outputs": [
    {
     "name": "stdout",
     "output_type": "stream",
     "text": [
      "Test loss: 0.03309129500001236\n",
      "Test accuracy 0.991\n"
     ]
    }
   ],
   "source": [
    "# 测试集上显示结果\n",
    "score = model.evaluate(X_test, y_test, verbose=0, batch_size=batch_size)\n",
    "print('Test loss:', score[0])\n",
    "print('Test accuracy', score[1])"
   ]
  },
  {
   "cell_type": "code",
   "execution_count": 50,
   "metadata": {},
   "outputs": [
    {
     "data": {
      "image/png": "[encoded data removed]",
      "text/plain": [
       "<Figure size 1080x1080 with 10 Axes>"
      ]
     },
     "metadata": {
      "needs_background": "light"
     },
     "output_type": "display_data"
    }
   ],
   "source": [
    "# 预测\n",
    "preds = model.predict(X_test)\n",
    "n_examples = 10\n",
    "plt.figure(figsize=(15, 15))\n",
    "for i in range(n_examples):\n",
    "    ax = plt.subplot(2, n_examples, i+1)\n",
    "    plt.imshow(X_test[i, :,:,0], cmap='gray')\n",
    "    plt.title(\"Label:{}\\nPredicted:{}\".format(np.argmax(y_test[i]), np.argmax(preds[i])))\n",
    "    plt.axis('off')\n",
    "plt.show()"
   ]
  },
  {
   "cell_type": "code",
   "execution_count": 51,
   "metadata": {},
   "outputs": [
    {
     "data": {
      "image/png": "[encoded data removed]",
      "text/plain": [
       "<Figure size 1080x1080 with 9 Axes>"
      ]
     },
     "metadata": {
      "needs_background": "light"
     },
     "output_type": "display_data"
    }
   ],
   "source": [
    "# 绘制错误分类\n",
    "plt.figure(figsize=(15,15))\n",
    "j = 1\n",
    "for i in range(len(y_test)):\n",
    "    if j == 10:\n",
    "        break\n",
    "    label = np.argmax(y_test[i])\n",
    "    pred = np.argmax(preds[i])\n",
    "    if label != pred:\n",
    "        ax = plt.subplot(2, n_examples, j+1)\n",
    "        plt.imshow(X_test[i, :,:,0], cmap='gray')\n",
    "        plt.title(\"Label:{}\\nPredicted:{}\".format(label, pred))\n",
    "        plt.axis('off')\n",
    "        j += 1\n",
    "plt.show()"
   ]
  }
 ],
 "metadata": {
  "kernelspec": {
   "display_name": "Python 3",
   "language": "python",
   "name": "python3"
  },
  "language_info": {
   "codemirror_mode": {
    "name": "ipython",
    "version": 3
   },
   "file_extension": ".py",
   "mimetype": "text/x-python",
   "name": "python",
   "nbconvert_exporter": "python",
   "pygments_lexer": "ipython3",
   "version": "3.6.8"
  }
 },
 "nbformat": 4,
 "nbformat_minor": 2
}
