{
 "cells": [
  {
   "cell_type": "code",
   "execution_count": null,
   "metadata": {},
   "outputs": [],
   "source": [
    "from keras.models import Sequential\n",
    "from keras.layers import Dense, Dropout, Activation, Flatten\n",
    "from keras.layers import Conv2D, MaxPooling2D\n",
    "from keras.optimizers import Adam\n",
    "from sklearn.model_selection import train_test_split\n",
    "from keras.utils import to_categorical\n",
    "from keras.callbacks import EarlyStopping, TensorBoard, ModelCheckpoint\n",
    "\n",
    "from keras.datasets import cifar10"
   ]
  },
  {
   "cell_type": "code",
   "execution_count": null,
   "metadata": {},
   "outputs": [],
   "source": [
    "(X_train, y_train), (X_test, y_test) = cifar10.load_data()\n",
    "validation_split = 0.1\n",
    "X_train, X_val, y_train, y_val = train_test_split(X_train, y_train, test_size=validation_split, random_state=SEED)\n",
    "\n",
    "X_train = X_train.astype('float32')\n",
    "X_train /=255.\n",
    "X_val = X_val.astype('float32')\n",
    "X_val /=255.\n",
    "X_test = X_test.astype('float32')\n",
    "X_test /=255.\n",
    "\n",
    "n_classes = 10\n",
    "y_train = to_categorical(y_train, n_classes)\n",
    "y_val = to_categorical(y_val, n_classes)\n",
    "y_test = to_categorical(y_test, n_classes)"
   ]
  },
  {
   "cell_type": "code",
   "execution_count": null,
   "metadata": {},
   "outputs": [],
   "source": [
    "callbacks =[EarlyStopping(monitor='val_acc', patience=5, verbose=2),\n",
    "            ModelCheckpoint('checkpoints/{epoch:02d}.h5', save_best_only=True),\n",
    "            TensorBoard('~/notebooks/logs-lrscheduler', write_graph=True, write_grads=True, write_images=True, embeddings_freq=0, embeddings_layer_names=None, embeddings_metadata=None),\n",
    "            ]"
   ]
  },
  {
   "cell_type": "code",
   "execution_count": null,
   "metadata": {},
   "outputs": [],
   "source": [
    "model = Sequential()\n",
    "model.add(Conv2D(32, (3, 3), padding='same', input_shape=X_train.shape[1:]))\n",
    "model.add(Activation('relu'))\n",
    "model.add(Conv2D(32, (3, 3)))\n",
    "model.add(Activation('relu'))\n",
    "model.add(MaxPooling2D(pool_size=(2, 2)))\n",
    "\n",
    "model.add(Conv2D(64, (3, 3), padding='same'))\n",
    "model.add(Activation('relu'))\n",
    "model.add(Conv2D(64, (3, 3)))\n",
    "model.add(Activation('relu'))\n",
    "model.add(MaxPooling2D(pool_size=(2, 2)))\n",
    "\n",
    "model.add(Flatten())\n",
    "model.add(Dense(512))\n",
    "model.add(Activation('relu'))\n",
    "model.add(Dense(n_classes))\n",
    "model.add(Activation('softmax'))\n",
    "optimizer = SGD()\n",
    "model.compile(loss='categorical_crossentropy', \n",
    "optimizer=optimizer, metrics=['accuracy'])"
   ]
  },
  {
   "cell_type": "code",
   "execution_count": null,
   "metadata": {},
   "outputs": [],
   "source": [
    "n_epochs = 1000\n",
    "batch_size = 128\n",
    "\n",
    "history = model.fit(X_train, y_train, epochs=n_epochs, batch_size=batch_size, \n",
    "          validation_data=[X_val, y_val],\n",
    "          verbose = 1, callbacks=callbacks)"
   ]
  },
  {
   "cell_type": "code",
   "execution_count": null,
   "metadata": {},
   "outputs": [],
   "source": [
    "model_dropout = Sequential()\n",
    "model_dropout.add(Conv2D(32, (3, 3), padding='same', input_shape=X_train.shape[1:]))\n",
    "model_dropout.add(Activation('relu'))\n",
    "model_dropout.add(Conv2D(32, (3, 3)))\n",
    "model_dropout.add(Activation('relu'))\n",
    "model_dropout.add(MaxPooling2D(pool_size=(2, 2)))\n",
    "model_dropout.add(Dropout(0.25))\n",
    "\n",
    "model_dropout.add(Conv2D(64, (3, 3), padding='same'))\n",
    "model_dropout.add(Activation('relu'))\n",
    "model_dropout.add(Conv2D(64, (3, 3)))\n",
    "model_dropout.add(Activation('relu'))\n",
    "model_dropout.add(MaxPooling2D(pool_size=(2, 2)))\n",
    "model_dropout.add(Dropout(0.25))\n",
    "\n",
    "model_dropout.add(Flatten())\n",
    "model_dropout.add(Dense(512))\n",
    "model_dropout.add(Activation('relu'))\n",
    "model_dropout.add(Dropout(0.5))\n",
    "model_dropout.add(Dense(n_classes))\n",
    "model_dropout.add(Activation('softmax'))\n",
    "optimizer = Adam()\n",
    "model_dropout.compile(loss='categorical_crossentropy', optimizer=optimizer, metrics=['accuracy'])"
   ]
  },
  {
   "cell_type": "code",
   "execution_count": null,
   "metadata": {},
   "outputs": [],
   "source": [
    "n_epochs = 1000\n",
    "batch_size = 128\n",
    "\n",
    "history_dropout = model_dropout.fit(X_train, y_train, epochs=n_epochs, batch_size=batch_size, \n",
    "          validation_data=[X_val, y_val],\n",
    "          verbose = 1, callbacks=callbacks)"
   ]
  },
  {
   "cell_type": "code",
   "execution_count": null,
   "metadata": {},
   "outputs": [],
   "source": [
    "plt.plot(np.arange(len(history.history['acc'])), history.history['acc'], label='training')\n",
    "plt.plot(np.arange(len(history.history['val_acc'])), history.history['val_acc'], label='validation')\n",
    "plt.title('Accuracy of model without dropouts')\n",
    "plt.xlabel('epochs')\n",
    "plt.ylabel('accuracy')\n",
    "plt.legend(loc=0)\n",
    "plt.show()"
   ]
  },
  {
   "cell_type": "code",
   "execution_count": null,
   "metadata": {},
   "outputs": [],
   "source": [
    "plt.plot(np.arange(len(history_dropout.history['acc'])), history_dropout.history['acc'], label='training')\n",
    "plt.plot(np.arange(len(history_dropout.history['val_acc'])), history_dropout.history['val_acc'], label='validation')\n",
    "plt.title('Accuracy of model with dropouts')\n",
    "plt.xlabel('epochs')\n",
    "plt.ylabel('accuracy')\n",
    "plt.legend(loc=0)\n",
    "plt.show()"
   ]
  }
 ],
 "metadata": {
  "kernelspec": {
   "display_name": "Python 3",
   "language": "python",
   "name": "python3"
  },
  "language_info": {
   "codemirror_mode": {
    "name": "ipython",
    "version": 3
   },
   "file_extension": ".py",
   "mimetype": "text/x-python",
   "name": "python",
   "nbconvert_exporter": "python",
   "pygments_lexer": "ipython3",
   "version": "3.6.8"
  },
  "widgets": {
   "state": {},
   "version": "1.1.2"
  }
 },
 "nbformat": 4,
 "nbformat_minor": 2
}
