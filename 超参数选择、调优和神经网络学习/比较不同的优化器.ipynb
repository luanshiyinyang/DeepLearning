{
 "cells": [
  {
   "cell_type": "code",
   "execution_count": null,
   "metadata": {},
   "outputs": [],
   "source": [
    "import numpy as np\n",
    "import pandas as pd\n",
    "from matplotlib import pyplot as plt\n",
    "\n",
    "from sklearn.model_selection import train_test_split\n",
    "from keras.models import Sequential\n",
    "from keras.layers import Dense, Dropout\n",
    "from keras.wrappers.scikit_learn import KerasRegressor\n",
    "from keras.callbacks import EarlyStopping, ModelCheckpoint\n",
    "from keras.optimizers import SGD, Adadelta, Adam, RMSprop, Adagrad, Nadam, Adamax"
   ]
  },
  {
   "cell_type": "code",
   "execution_count": null,
   "metadata": {},
   "outputs": [],
   "source": [
    "(X_train, y_train), (X_test, y_test) = cifar10.load_data()\n",
    "validation_split = 0.1\n",
    "X_train, X_val, y_train, y_val = train_test_split(X_train, y_train, test_size=validation_split, random_state=SEED)\n",
    "\n",
    "X_train = X_train.astype('float32')\n",
    "X_train /=255.\n",
    "X_val = X_val.astype('float32')\n",
    "X_val /=255.\n",
    "X_test = X_test.astype('float32')\n",
    "X_test /=255.\n",
    "\n",
    "n_classes = 10\n",
    "y_train = to_categorical(y_train, n_classes)\n",
    "y_val = to_categorical(y_val, n_classes)\n",
    "y_test = to_categorical(y_test, n_classes)"
   ]
  },
  {
   "cell_type": "code",
   "execution_count": null,
   "metadata": {},
   "outputs": [],
   "source": [
    "def create_model(opt): \n",
    "    model = Sequential()\n",
    "    model.add(Conv2D(32, (3, 3), padding='same', input_shape=x_train.shape[1:]))\n",
    "    model.add(Activation('relu'))\n",
    "    model.add(Conv2D(32, (3, 3)))\n",
    "    model.add(Activation('relu'))\n",
    "    model.add(MaxPooling2D(pool_size=(2, 2)))\n",
    "    model.add(Dropout(0.25))\n",
    "\n",
    "    model.add(Conv2D(64, (3, 3), padding='same'))\n",
    "    model.add(Activation('relu'))\n",
    "    model.add(Conv2D(64, (3, 3)))\n",
    "    model.add(Activation('relu'))\n",
    "    model.add(MaxPooling2D(pool_size=(2, 2)))\n",
    "    model.add(Dropout(0.25))\n",
    "\n",
    "    model.add(Flatten())\n",
    "    model.add(Dense(512))\n",
    "    model.add(Activation('relu'))\n",
    "    model.add(Dropout(0.5))\n",
    "    model.add(Dense(num_classes))\n",
    "    model.add(Activation('softmax'))\n",
    "    return model"
   ]
  },
  {
   "cell_type": "code",
   "execution_count": null,
   "metadata": {},
   "outputs": [],
   "source": [
    "def create_callbacks(opt):\n",
    "    callbacks = [EarlyStopping(monitor='val_acc', patience=5, verbose=2),\n",
    "             ModelCheckpoint('checkpoints/weights.{epoch:02d}-'+opt+'.h5', save_best_only=False, verbose=True),\n",
    "             TensorBoard()]\n",
    "    return callbacks"
   ]
  },
  {
   "cell_type": "code",
   "execution_count": null,
   "metadata": {},
   "outputs": [],
   "source": [
    "opts = dict({\n",
    "    'sgd': SGD(),\n",
    "    'sgd-0001': SGD(lr=0.0001, decay=0.00001),\n",
    "    'adam': Adam(),\n",
    "    'adam': Adam(lr=0.0001),\n",
    "    'adadelta': Adadelta(),\n",
    "    'rmsprop': RMSprop(),\n",
    "    'rmsprop-0001': RMSprop(lr=0.0001),\n",
    "    'nadam': Nadam(),\n",
    "    'adamax': Adamax()\n",
    "    })"
   ]
  },
  {
   "cell_type": "code",
   "execution_count": null,
   "metadata": {},
   "outputs": [],
   "source": [
    "n_epochs = 1000\n",
    "batch_size = 128\n",
    "\n",
    "results = []\n",
    "for opt in opts:\n",
    "    model = create_model(opt)\n",
    "    callbacks = create_callbacks(opt)\n",
    "    model.compile(loss='categorical_crossentropy', optimizer=opts[opt], metrics=['accuracy'])\n",
    "    hist = model.fit(X_train, y_train, batch_size=batch_size, epochs=n_epochs,\n",
    "    validation_data=(X_val, y_val),\n",
    "    verbose=1,\n",
    "    callbacks=callbacks)\n",
    "    best_epoch = np.argmax(hist.history['val_acc'])\n",
    "    best_acc = hist.history['val_acc'][best_epoch] \n",
    "    best_model = create_model(opt)\n",
    "    best_model.load_weights('checkpoints/weights.{:02d}-{}.h5'.format(best_epoch, opt))\n",
    "    best_model.compile(loss='mse', optimizer=opts[opt], metrics=['accuracy'])\n",
    "    score = best_model.evaluate(X_test, y_test, verbose=0)\n",
    "    results.append([opt, best_epoch, best_acc, score[1]])"
   ]
  },
  {
   "cell_type": "code",
   "execution_count": null,
   "metadata": {},
   "outputs": [],
   "source": [
    "res = pd.DataFrame(results)\n",
    "res.columns = ['optimizer', 'epochs', 'val_accuracy', 'test_last', 'test_accuracy']\n",
    "res"
   ]
  }
 ],
 "metadata": {
  "kernelspec": {
   "display_name": "Python 3",
   "language": "python",
   "name": "python3"
  },
  "language_info": {
   "codemirror_mode": {
    "name": "ipython",
    "version": 3
   },
   "file_extension": ".py",
   "mimetype": "text/x-python",
   "name": "python",
   "nbconvert_exporter": "python",
   "pygments_lexer": "ipython3",
   "version": "3.6.8"
  },
  "widgets": {
   "state": {},
   "version": "1.1.2"
  }
 },
 "nbformat": 4,
 "nbformat_minor": 2
}
