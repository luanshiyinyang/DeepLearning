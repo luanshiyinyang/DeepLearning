{
 "cells": [
  {
   "cell_type": "code",
   "execution_count": null,
   "metadata": {},
   "outputs": [],
   "source": [
    "import pandas as pd\n",
    "import numpy as np\n",
    "import cv2\n",
    "import math\n",
    "\n",
    "from keras.models import Sequential\n",
    "from keras.layers.core import Dense, Dropout, Activation, Lambda\n",
    "from keras.layers import Input, ELU\n",
    "from keras.optimizers import SGD, Adam\n",
    "from keras.utils import np_utils\n",
    "from keras.layers import Conv2D, MaxPooling2D, Flatten\n",
    "from keras import initializers\n",
    "from keras.callbacks import ModelCheckpoint"
   ]
  },
  {
   "cell_type": "code",
   "execution_count": null,
   "metadata": {},
   "outputs": [],
   "source": [
    "data_path = 'Data/SDC/training.csv'\n",
    "data = pd.read_csv(data_path, header=None, skiprows=[0], names=['center', 'left', 'right', 'steering', 'throttle', 'brake', 'speed'])"
   ]
  },
  {
   "cell_type": "code",
   "execution_count": null,
   "metadata": {},
   "outputs": [],
   "source": [
    "img_cols = 64\n",
    "img_rows = 64\n",
    "img_channels = 3"
   ]
  },
  {
   "cell_type": "code",
   "execution_count": null,
   "metadata": {},
   "outputs": [],
   "source": [
    "def augment_image(image):\n",
    "    image = cv2.cvtColor(image,cv2.COLOR_RGB2HSV)\n",
    "    random_bright = .25 + np.random.uniform()\n",
    "    image[:,:,2] = image[:,:,2] * random_bright\n",
    "    image = cv2.cvtColor(image,cv2.COLOR_HSV2RGB)\n",
    "    return(image)"
   ]
  },
  {
   "cell_type": "code",
   "execution_count": null,
   "metadata": {},
   "outputs": [],
   "source": [
    "def preprocess_image(data):\n",
    "    # 随机选择方向\n",
    "    rand = np.random.randint(3)\n",
    "    if (rand == 0):\n",
    "        path_file = data['left'][0].strip()\n",
    "        shift_ang = .25\n",
    "    if (rand == 1):\n",
    "        path_file = data['center'][0].strip()\n",
    "        shift_ang = 0.\n",
    "    if (rand == 2):\n",
    "        path_file = data['right'][0].strip()\n",
    "        shift_ang = -.25\n",
    "    y = data['steering'][0] + shift_ang\n",
    "\n",
    "    image = cv2.imread(path_file)\n",
    "    image = cv2.cvtColor(image, cv2.COLOR_BGR2RGB)\n",
    "\n",
    "    shape = image.shape\n",
    "    image = image[math.floor(shape[0]/4):\n",
    "    shape[0]-20, 0:shape[1]]\n",
    "\n",
    "    image = cv2.resize(image, (img_cols, img_rows),\n",
    "    interpolation=cv2.INTER_AREA) \n",
    "\n",
    "    image = augment_image(image)\n",
    "    image = np.array(image)\n",
    "\n",
    "    if np.random.choice([True, False]):\n",
    "        image = cv2.flip(image,1)\n",
    "        y = -y\n",
    "    \n",
    "    return(image, y)"
   ]
  },
  {
   "cell_type": "code",
   "execution_count": null,
   "metadata": {},
   "outputs": [],
   "source": [
    "def batch_gen(data, batch_size):\n",
    "    batch_images = np.zeros((batch_size, img_rows,\n",
    "    img_cols, img_channels))\n",
    "    batch_steering = np.zeros(batch_size)\n",
    "\n",
    "    small_steering_threshold = 0.8\n",
    "\n",
    "    while 1:\n",
    "        for n in range(batch_size):\n",
    "            i = np.random.randint(len(data))\n",
    "            data_sub = data.iloc[[i]].reset_index()\n",
    "            keep = False\n",
    "            while keep == False:\n",
    "                x, y = preprocess_image(data_sub)\n",
    "                pr_unif = np.random\n",
    "                if abs(y) < .01:\n",
    "                    next;\n",
    "                if abs(y) < .10:\n",
    "                    small_steering_rand = np.random.uniform()\n",
    "                    if small_steering_rand > \n",
    "                    small_steering_threshold:\n",
    "                        keep = True\n",
    "                else:\n",
    "                    keep = True\n",
    "\n",
    "            batch_images[n] = x\n",
    "            batch_steering[n] = y\n",
    "        yield batch_images, batch_steering"
   ]
  },
  {
   "cell_type": "code",
   "execution_count": null,
   "metadata": {},
   "outputs": [],
   "source": [
    "input_shape = (img_rows, img_cols, img_channels)\n",
    "model = Sequential()\n",
    "model.add(Lambda(lambda x: x/255.-0.5, \n",
    "input_shape=input_shape))\n",
    "model.add(Conv2D(3, (1, 1), padding='valid', kernel_initializer='he_normal'))\n",
    "model.add(ELU())\n",
    "model.add(Conv2D(32, (3, 3), padding='valid', kernel_initializer='he_normal'))\n",
    "model.add(ELU())\n",
    "model.add(Conv2D(32, (3, 3), padding='valid', kernel_initializer='he_normal'))\n",
    "model.add(ELU())\n",
    "model.add(MaxPooling2D(pool_size=(2, 2)))\n",
    "model.add(Dropout(0.5))\n",
    "model.add(Conv2D(64, (3, 3), padding='valid', kernel_initializer='he_normal'))\n",
    "model.add(ELU())\n",
    "model.add(Conv2D(64, (3, 3), padding='valid', kernel_initializer='he_normal'))\n",
    "model.add(ELU())\n",
    "model.add(MaxPooling2D(pool_size=(2, 2)))\n",
    "model.add(Dropout(0.5))\n",
    "model.add(Conv2D(128, (3, 3), padding='valid', kernel_initializer='he_normal'))\n",
    "model.add(ELU())\n",
    "model.add(Conv2D(128, (3, 3), padding='valid', kernel_initializer='he_normal'))\n",
    "model.add(ELU())\n",
    "model.add(MaxPooling2D(pool_size=(2, 2)))\n",
    "model.add(Dropout(0.5))\n",
    "model.add(Flatten())\n",
    "model.add(Dense(512, kernel_initializer='he_normal', activation='relu'))\n",
    "model.add(ELU())\n",
    "model.add(Dropout(0.5))\n",
    "model.add(Dense(64, kernel_initializer='he_normal'))\n",
    "model.add(ELU())\n",
    "model.add(Dropout(0.5))\n",
    "model.add(Dense(16, kernel_initializer='he_normal'))\n",
    "model.add(ELU())\n",
    "model.add(Dropout(0.5))\n",
    "model.add(Dense(1, kernel_initializer='he_normal'))\n",
    "\n",
    "opt = Adam(lr=1e-4, beta_1=0.9, beta_2=0.999, epsilon=1e-08, decay=0.0)\n",
    "model.compile(optimizer=opt, loss='mse')\n",
    "model.summary()"
   ]
  },
  {
   "cell_type": "code",
   "execution_count": null,
   "metadata": {},
   "outputs": [],
   "source": [
    "callbacks = [ModelCheckpoint('checkpoints/sdc.h5', save_best_only=False)]"
   ]
  },
  {
   "cell_type": "code",
   "execution_count": null,
   "metadata": {},
   "outputs": [],
   "source": [
    "train_generator = batchgen(data, batch_size)\n",
    "val_generator = batchgen(data, batch_size)"
   ]
  },
  {
   "cell_type": "code",
   "execution_count": null,
   "metadata": {},
   "outputs": [],
   "source": [
    "n_epochs = 8\n",
    "batch_size = 64\n",
    "steps_per_epoch = 500\n",
    "validation_steps = 50"
   ]
  },
  {
   "cell_type": "code",
   "execution_count": null,
   "metadata": {},
   "outputs": [],
   "source": [
    "history = model.fit_generator(train_generator, steps_per_epoch=steps_per_epoch, epochs=n_epochs, validation_data=val_generator, validation_steps=validation_steps, callbacks=callbacks)"
   ]
  }
 ],
 "metadata": {
  "kernelspec": {
   "display_name": "Python 3",
   "language": "python",
   "name": "python3"
  },
  "language_info": {
   "codemirror_mode": {
    "name": "ipython",
    "version": 3
   },
   "file_extension": ".py",
   "mimetype": "text/x-python",
   "name": "python",
   "nbconvert_exporter": "python",
   "pygments_lexer": "ipython3",
   "version": "3.6.8"
  },
  "widgets": {
   "state": {},
   "version": "1.1.2"
  }
 },
 "nbformat": 4,
 "nbformat_minor": 2
}
