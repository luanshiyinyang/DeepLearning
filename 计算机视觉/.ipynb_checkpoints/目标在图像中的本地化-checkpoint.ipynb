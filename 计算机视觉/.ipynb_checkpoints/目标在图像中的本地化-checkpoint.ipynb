{
 "cells": [
  {
   "cell_type": "code",
   "execution_count": null,
   "metadata": {},
   "outputs": [],
   "source": [
    "import numpy as np\n",
    "import pandas as pd\n",
    "import glob\n",
    "import cv2\n",
    "import matplotlib.pyplot as plt\n",
    "\n",
    "from sklearn.preprocessing import LabelBinarizer\n",
    "from sklearn.model_selection import train_test_split\n",
    "from sklearn.metrics import accuracy_score\n",
    "\n",
    "from keras.models import Sequential, load_model\n",
    "from keras.layers import Dense, Dropout, Activation, Flatten, Conv2D, MaxPooling2D, Lambda, Cropping2D\n",
    "from keras.utils import np_utils\n",
    "from keras import backend as K\n",
    "from keras.callbacks import EarlyStopping\n",
    "\n",
    "from keras import optimizers"
   ]
  },
  {
   "cell_type": "code",
   "execution_count": null,
   "metadata": {},
   "outputs": [],
   "source": [
    "DATA_DIR = '../Data/object-detection-crowdai/'\n",
    "labels = pd.read_csv(DATA_DIR + 'labels.csv', usecols=[0,1,2,3,4,5])\n",
    "labels = labels[labels.Label == 'Truck']\n",
    "labels = labels[~labels.Frame.isin(labels.Frame[labels.Frame.duplicated()].values)]\n",
    "labels.columns=['xmin', 'ymin', 'xmax', 'ymax', 'Frame', 'Label']\n",
    "labels[30:50]"
   ]
  },
  {
   "cell_type": "code",
   "execution_count": null,
   "metadata": {},
   "outputs": [],
   "source": [
    "image_list = ['1479498416965787036.jpg',\n",
    "              '1479498541974858765.jpg']\n",
    "\n",
    "plt.figure(figsize=(15,15))\n",
    "i=1\n",
    "for image in image_list:\n",
    "    plt.subplot(len(image_list), len(image_list), i)\n",
    "    img_info = labels[labels.Frame == image]\n",
    "    img = cv2.imread(DATA_DIR + image)\n",
    "    img = cv2.cvtColor(img, cv2.COLOR_BGR2RGB)\n",
    "    print(img.shape)\n",
    "    cv2.rectangle(img, (img_info.xmin, img_info.ymin),(img_info.xmax, img_info.ymax), (255, 0 , 255), 4)\n",
    "    print(img_info)\n",
    "    plt.imshow(img)\n",
    "    i+=1\n",
    "plt.show()"
   ]
  },
  {
   "cell_type": "code",
   "execution_count": null,
   "metadata": {},
   "outputs": [],
   "source": [
    "X_train = labels.iloc[:1970]\n",
    "X_val = labels.iloc[2000:]\n",
    "print(X_train.shape)\n",
    "print(X_val.shape)"
   ]
  },
  {
   "cell_type": "code",
   "execution_count": null,
   "metadata": {},
   "outputs": [],
   "source": [
    "image_list = ['1479502622732414408.jpg',\n",
    "            '1479502623247392322.jpg',\n",
    "            '1479502623755460204.jpg',\n",
    "            '1479502623247392322.jpg',\n",
    "            '1479502625253159017.jpg']\n",
    "n_images = len(image_list)\n",
    "\n",
    "plt.figure(figsize=(15,15))\n",
    "for i in range(n_images):\n",
    "    plt.subplot(n_images, n_images, i+1)\n",
    "    plt.title(\"{0}\".format(image_list[i]))\n",
    "    img = cv2.imread(DATA_DIR + image_list[i])\n",
    "    img = cv2.cvtColor(img, cv2.COLOR_BGR2RGB)\n",
    "    plt.axis('off')\n",
    "    plt.imshow(img)\n",
    "    plt.tight_layout() \n",
    "plt.show()"
   ]
  },
  {
   "cell_type": "code",
   "execution_count": null,
   "metadata": {},
   "outputs": [],
   "source": [
    "X_train = labels.iloc[:1970]\n",
    "X_val = labels.iloc[2000:]\n",
    "print(X_train.shape)\n",
    "print(X_val.shape)"
   ]
  },
  {
   "cell_type": "code",
   "execution_count": null,
   "metadata": {},
   "outputs": [],
   "source": [
    "def IOU_calc(y_true, y_pred, smooth=0.9):\n",
    "    y_true_f = K.flatten(y_true)\n",
    "    y_pred_f = K.flatten(y_pred)\n",
    "    intersection = K.sum(y_true_f * y_pred_f)\n",
    "    return 2*(intersection + smooth) / (K.sum(y_true_f) + K.sum(y_pred_f) + smooth)"
   ]
  },
  {
   "cell_type": "code",
   "execution_count": null,
   "metadata": {},
   "outputs": [],
   "source": [
    "img_rows = 200\n",
    "img_cols = 200\n",
    "img_channels = 3\n",
    "\n",
    "model = Sequential()\n",
    "model.add(Lambda(lambda x: (x / 255.) - 0.5, input_shape=(img_rows, img_cols, img_channels)))\n",
    "model.add(Conv2D(16, (5, 5), activation='relu', padding='same'))\n",
    "model.add(MaxPooling2D(pool_size=(2,2)))\n",
    "model.add(Conv2D(32, (5, 5), activation='relu', padding='same'))\n",
    "model.add(MaxPooling2D(pool_size=(2,2)))\n",
    "model.add(Conv2D(64, (3, 3), activation='relu', padding='same'))\n",
    "model.add(MaxPooling2D(pool_size=(2,2)))\n",
    "model.add(Flatten())\n",
    "model.add(Dense(256, activation='relu'))\n",
    "model.add(Dropout(0.5))\n",
    "model.add(Dense(4, activation='sigmoid'))\n",
    "\n",
    "opt = optimizers.Adam(lr=1e-8)\n",
    "model.compile(optimizer=opt, loss='mse', metrics=[IOU_calc])\n",
    "model.summary()"
   ]
  },
  {
   "cell_type": "code",
   "execution_count": null,
   "metadata": {},
   "outputs": [],
   "source": [
    "def batchgen(x, y, batch_size)\n",
    "    images = np.zeros((batch_size, img_rows, img_cols, img_channels))\n",
    "    class_id = np.zeros((batch_size, 4))\n",
    "\n",
    "    while 1:\n",
    "        for n in range(batch_size):\n",
    "            i = np.random.randint(len(x))\n",
    "            \n",
    "            x_ = x.Frame.iloc[i]\n",
    "            x_ = cv2.imread(DATA_DIR + image)\n",
    "            x_ = cv2.cvtColor(img, cv2.COLOR_BGR2RGB)\n",
    "            \n",
    "            x_min = (x.iloc[i].xmin * (img_cols/1920)) / img_cols\n",
    "            x_max = (x.iloc[i].xmax * (img_cols/1920)) / img_cols\n",
    "            y_min = (x.iloc[i].ymin * (img_rows/1200)) / img_rows\n",
    "            y_max = (x.iloc[i].ymax * (img_rows/1200)) / img_rows\n",
    "            y_ = (x_min, y_min, x_max, y_max)            \n",
    "            x_ = cv2.resize(x_, (img_cols, img_rows))\n",
    "            images[n] = x_\n",
    "            class_id[n] = y_\n",
    "            yield images, class_id"
   ]
  },
  {
   "cell_type": "code",
   "execution_count": null,
   "metadata": {},
   "outputs": [],
   "source": [
    "callbacks = [EarlyStopping(monitor='val_IOU_calc', patience=10, verbose=0)]"
   ]
  },
  {
   "cell_type": "code",
   "execution_count": null,
   "metadata": {},
   "outputs": [],
   "source": [
    "batch_size = 64\n",
    "n_epochs = 1000\n",
    "steps_per_epoch = 512\n",
    "val_steps = len(X_val)//batch_size\n",
    "\n",
    "train_generator = batchgen(X_train, _, batch_size)\n",
    "val_generator = batchgen(X_val, _, batch_size)\n",
    "\n",
    "history = model.fit_generator(train_generator, \n",
    "                               steps_per_epoch=steps_per_epoch, \n",
    "                               epochs=n_epochs, \n",
    "                               validation_data=val_generator,\n",
    "                               validation_steps = val_steps,\n",
    "                              callbacks=callbacks\n",
    "                             )"
   ]
  }
 ],
 "metadata": {
  "kernelspec": {
   "display_name": "Python 3",
   "language": "python",
   "name": "python3"
  },
  "language_info": {
   "codemirror_mode": {
    "name": "ipython",
    "version": 3
   },
   "file_extension": ".py",
   "mimetype": "text/x-python",
   "name": "python",
   "nbconvert_exporter": "python",
   "pygments_lexer": "ipython3",
   "version": "3.6.8"
  },
  "widgets": {
   "state": {},
   "version": "1.1.2"
  }
 },
 "nbformat": 4,
 "nbformat_minor": 2
}
