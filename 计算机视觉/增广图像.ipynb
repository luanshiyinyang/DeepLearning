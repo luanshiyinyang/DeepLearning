{
 "cells": [
  {
   "cell_type": "code",
   "execution_count": null,
   "metadata": {},
   "outputs": [],
   "source": [
    "import numpy as np\n",
    "import cv2\n",
    "import matplotlib.pyplot as plt\n",
    "import glob"
   ]
  },
  {
   "cell_type": "code",
   "execution_count": null,
   "metadata": {},
   "outputs": [],
   "source": [
    "DATA_DIR = 'Data/augmentation/'\n",
    "images = glob.glob(DATA_DIR + '*')\n",
    "\n",
    "plt.figure(figsize=(10, 10))\n",
    "i = 1\n",
    "for image in images:\n",
    "    img = cv2.imread(image)\n",
    "    img = cv2.cvtColor(img, cv2.COLOR_BGR2RGB)\n",
    "    plt.subplot(3, 3, i)\n",
    "    plt.imshow(img)\n",
    "    i += 1\n",
    "    \n",
    "plt.show()"
   ]
  },
  {
   "cell_type": "code",
   "execution_count": null,
   "metadata": {},
   "outputs": [],
   "source": [
    "def plot_images(image, function, *args):\n",
    "    plt.figure(figsize=(10, 10))\n",
    "    n_examples = 3\n",
    "    for i in range(n_examples):\n",
    "        img = cv2.imread(image)\n",
    "        img = cv2.cvtColor(img, cv2.COLOR_BGR2RGB)\n",
    "        img = function(img, *args)\n",
    "        plt.subplot(3, 3, i+1)\n",
    "        plt.imshow(img)\n",
    "    plt.show()"
   ]
  },
  {
   "cell_type": "code",
   "execution_count": null,
   "metadata": {},
   "outputs": [],
   "source": [
    "def rotate_image(image, rotate=20):\n",
    "    width, height, _ = image.shape\n",
    "    random_rotation = np.random.uniform(low=-rotate, high=rotate)\n",
    "    M = cv2.getRotationMatrix2D((width/2, height/2), random_rotation, 1)\n",
    "    return(cv2.warpAffine(image, M, (width, height)))\n",
    "\n",
    "plot_images(images[2], rotate_image, 40)"
   ]
  },
  {
   "cell_type": "code",
   "execution_count": null,
   "metadata": {},
   "outputs": [],
   "source": [
    " def adjust_brightness(image, brightness=60):\n",
    "    rand_brightness = np.random.uniform(low=-brightness, high=brightness)\n",
    "    return(cv2.add(image, rand_brightness))\n",
    "\n",
    "plot_images(images[0], adjust_brightness, 85)"
   ]
  },
  {
   "cell_type": "code",
   "execution_count": null,
   "metadata": {},
   "outputs": [],
   "source": [
    "def random_shifts(image, shift_max_x=100, shift_max_y=100):\n",
    "    width, height, _ = image.shape\n",
    "    shift_x = np.random.randint(shift_max_x)\n",
    "    shift_y = np.random.randint(shift_max_y)\n",
    "    M = np.float32([[1, 0, shift_x],[0, 1, shift_y]])\n",
    "    return (cv2.warpAffine(image, M, (height, width)))\n",
    "\n",
    "plot_images(images[1], random_shifts, 100, 20)"
   ]
  },
  {
   "cell_type": "code",
   "execution_count": null,
   "metadata": {},
   "outputs": [],
   "source": [
    "def scale_image(image, scale_range=[0.6, 1.4]):\n",
    "    width, height, _ = image.shape    \n",
    "    \n",
    "    scale_x = np.random.uniform(low=scale_range[0], high=scale_range[1])\n",
    "    scale_y = np.random.uniform(low=scale_range[0], high=scale_range[1])\n",
    "    scale_matrix = np.array([[scale_x, 0., (1. - scale_x) * width / 2.], \n",
    "                             [0., scale_y, (1. - scale_y) * height / 2.]], \n",
    "                            dtype=np.float32)\n",
    "    return(cv2.warpAffine(image, scale_matrix, (width, height), flags=cv2.INTER_LINEAR, \n",
    "                         borderMode=cv2.BORDER_REFLECT_101))\n",
    "\n",
    "plot_images(images[2], scale_image, [0.7, 1.3])"
   ]
  },
  {
   "cell_type": "code",
   "execution_count": null,
   "metadata": {},
   "outputs": [],
   "source": [
    "def random_flip(image, p_flip=0.5):\n",
    "    rand = np.random.random()\n",
    "    if rand < p_flip:\n",
    "        image = cv2.flip(image, 1)\n",
    "    return image\n",
    "\n",
    "plot_images(images[2], random_flip)"
   ]
  },
  {
   "cell_type": "code",
   "execution_count": null,
   "metadata": {},
   "outputs": [],
   "source": [
    "plt.figure(figsize=(15, 15))\n",
    "image = images[1]\n",
    "for i in range(32):\n",
    "    img = cv2.imread(image)\n",
    "    img = cv2.cvtColor(img, cv2.COLOR_BGR2RGB)\n",
    "    img = transform_image(img)\n",
    "    plt.subplot(8, 8, i+1)\n",
    "    plt.axis('off')\n",
    "    plt.imshow(img, interpolation=\"nearest\")\n",
    "plt.show()"
   ]
  }
 ],
 "metadata": {
  "kernelspec": {
   "display_name": "Python 3",
   "language": "python",
   "name": "python3"
  },
  "language_info": {
   "codemirror_mode": {
    "name": "ipython",
    "version": 3
   },
   "file_extension": ".py",
   "mimetype": "text/x-python",
   "name": "python",
   "nbconvert_exporter": "python",
   "pygments_lexer": "ipython3",
   "version": "3.6.8"
  },
  "widgets": {
   "state": {},
   "version": "1.1.2"
  }
 },
 "nbformat": 4,
 "nbformat_minor": 2
}
