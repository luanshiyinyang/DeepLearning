{
 "cells": [
  {
   "cell_type": "code",
   "execution_count": 1,
   "metadata": {},
   "outputs": [
    {
     "name": "stderr",
     "output_type": "stream",
     "text": [
      "Using TensorFlow backend.\n"
     ]
    }
   ],
   "source": [
    "import numpy as np\n",
    "import pandas as pd\n",
    "\n",
    "from keras.preprocessing import sequence\n",
    "from keras.models import Sequential\n",
    "from keras.layers import Dense, Dropout, Activation\n",
    "from keras.layers import Embedding\n",
    "from keras.layers import GRU\n",
    "from keras.callbacks import EarlyStopping\n",
    "\n",
    "from keras.datasets import imdb\n"
   ]
  },
  {
   "cell_type": "code",
   "execution_count": 2,
   "metadata": {},
   "outputs": [
    {
     "name": "stdout",
     "output_type": "stream",
     "text": [
      "Train seq: 25000\n",
      "Test seq: 25000\n"
     ]
    }
   ],
   "source": [
    "n_words = 1000\n",
    "(X_train, y_train), (X_test, y_test) = imdb.load_data(num_words=n_words)\n",
    "print('Train seq: {}'.format(len(X_train)))\n",
    "print('Test seq: {}'.format(len(X_train)))"
   ]
  },
  {
   "cell_type": "code",
   "execution_count": 3,
   "metadata": {},
   "outputs": [],
   "source": [
    "max_len = 200\n",
    "X_train = sequence.pad_sequences(X_train, maxlen=max_len)\n",
    "X_test = sequence.pad_sequences(X_test, maxlen=max_len)"
   ]
  },
  {
   "cell_type": "code",
   "execution_count": 4,
   "metadata": {},
   "outputs": [
    {
     "name": "stdout",
     "output_type": "stream",
     "text": [
      "_________________________________________________________________\n",
      "Layer (type)                 Output Shape              Param #   \n",
      "=================================================================\n",
      "embedding_1 (Embedding)      (None, 200, 50)           50000     \n",
      "_________________________________________________________________\n",
      "dropout_1 (Dropout)          (None, 200, 50)           0         \n",
      "_________________________________________________________________\n",
      "gru_1 (GRU)                  (None, 100)               45300     \n",
      "_________________________________________________________________\n",
      "dense_1 (Dense)              (None, 250)               25250     \n",
      "_________________________________________________________________\n",
      "dropout_2 (Dropout)          (None, 250)               0         \n",
      "_________________________________________________________________\n",
      "dense_2 (Dense)              (None, 1)                 251       \n",
      "=================================================================\n",
      "Total params: 120,801\n",
      "Trainable params: 120,801\n",
      "Non-trainable params: 0\n",
      "_________________________________________________________________\n"
     ]
    }
   ],
   "source": [
    "model = Sequential()\n",
    "model.add(Embedding(n_words, 50, input_length=max_len))\n",
    "model.add(Dropout(0.2))\n",
    "model.add(GRU(100, dropout=0.2, recurrent_dropout=0.2))\n",
    "model.add(Dense(250, activation='relu'))\n",
    "model.add(Dropout(0.2))\n",
    "model.add(Dense(1, activation='sigmoid'))\n",
    "\n",
    "model.compile(loss='binary_crossentropy',  optimizer='adam', metrics=['accuracy'])\n",
    "model.summary()"
   ]
  },
  {
   "cell_type": "code",
   "execution_count": 5,
   "metadata": {},
   "outputs": [],
   "source": [
    "callbacks = [EarlyStopping(monitor='val_acc', patience=3)]\n"
   ]
  },
  {
   "cell_type": "code",
   "execution_count": 6,
   "metadata": {},
   "outputs": [
    {
     "name": "stdout",
     "output_type": "stream",
     "text": [
      "Train on 20000 samples, validate on 5000 samples\n",
      "Epoch 1/100\n",
      "20000/20000 [==============================] - 13s - loss: 0.6693 - acc: 0.5890 - val_loss: 0.5819 - val_acc: 0.6908\n",
      "Epoch 2/100\n",
      "20000/20000 [==============================] - 12s - loss: 0.5243 - acc: 0.7364 - val_loss: 0.4923 - val_acc: 0.7560\n",
      "Epoch 3/100\n",
      "20000/20000 [==============================] - 12s - loss: 0.4716 - acc: 0.7816 - val_loss: 0.5005 - val_acc: 0.7526\n",
      "Epoch 4/100\n",
      "20000/20000 [==============================] - 12s - loss: 0.4516 - acc: 0.7972 - val_loss: 0.4436 - val_acc: 0.7908\n",
      "Epoch 5/100\n",
      "20000/20000 [==============================] - 12s - loss: 0.4340 - acc: 0.8066 - val_loss: 0.4718 - val_acc: 0.7848\n",
      "Epoch 6/100\n",
      "20000/20000 [==============================] - 12s - loss: 0.4191 - acc: 0.8184 - val_loss: 0.4514 - val_acc: 0.7876\n",
      "Epoch 7/100\n",
      "20000/20000 [==============================] - 12s - loss: 0.4242 - acc: 0.8132 - val_loss: 0.4123 - val_acc: 0.8198\n",
      "Epoch 8/100\n",
      "20000/20000 [==============================] - 12s - loss: 0.3997 - acc: 0.8256 - val_loss: 0.3968 - val_acc: 0.8206\n",
      "Epoch 9/100\n",
      "20000/20000 [==============================] - 12s - loss: 0.3918 - acc: 0.8325 - val_loss: 0.4049 - val_acc: 0.8188\n",
      "Epoch 10/100\n",
      "20000/20000 [==============================] - 12s - loss: 0.3745 - acc: 0.8388 - val_loss: 0.3926 - val_acc: 0.8334\n",
      "Epoch 11/100\n",
      "20000/20000 [==============================] - 12s - loss: 0.3967 - acc: 0.8256 - val_loss: 0.3952 - val_acc: 0.8348\n",
      "Epoch 12/100\n",
      "20000/20000 [==============================] - 12s - loss: 0.3601 - acc: 0.8469 - val_loss: 0.3854 - val_acc: 0.8302\n",
      "Epoch 13/100\n",
      "20000/20000 [==============================] - 12s - loss: 0.3500 - acc: 0.8504 - val_loss: 0.3801 - val_acc: 0.8356\n",
      "Epoch 14/100\n",
      "20000/20000 [==============================] - 12s - loss: 0.3506 - acc: 0.8500 - val_loss: 0.3825 - val_acc: 0.8386\n",
      "Epoch 15/100\n",
      "20000/20000 [==============================] - 12s - loss: 0.3415 - acc: 0.8555 - val_loss: 0.3783 - val_acc: 0.8352\n",
      "Epoch 16/100\n",
      "20000/20000 [==============================] - 12s - loss: 0.3299 - acc: 0.8601 - val_loss: 0.3771 - val_acc: 0.8296\n",
      "Epoch 17/100\n",
      "20000/20000 [==============================] - 12s - loss: 0.3322 - acc: 0.8590 - val_loss: 0.3974 - val_acc: 0.8348\n",
      "Epoch 18/100\n",
      "20000/20000 [==============================] - 12s - loss: 0.3788 - acc: 0.8356 - val_loss: 0.3966 - val_acc: 0.8226\n"
     ]
    },
    {
     "data": {
      "text/plain": [
       "<keras.callbacks.History at 0x7f47e709f860>"
      ]
     },
     "execution_count": 6,
     "metadata": {},
     "output_type": "execute_result"
    }
   ],
   "source": [
    "batch_size = 512\n",
    "n_epochs = 100\n",
    "\n",
    "model.fit(X_train, y_train, batch_size=batch_size, epochs=n_epochs, validation_split=0.2, callbacks=callbacks)"
   ]
  },
  {
   "cell_type": "code",
   "execution_count": 8,
   "metadata": {},
   "outputs": [
    {
     "name": "stdout",
     "output_type": "stream",
     "text": [
      "25000/25000 [==============================] - 40s    \n",
      "\n",
      "Accuracy on test set: 0.83004\n"
     ]
    }
   ],
   "source": [
    "print('Accuracy on test set: {}'.format(model.evaluate(X_test, y_test)[1]))"
   ]
  }
 ],
 "metadata": {
  "kernelspec": {
   "display_name": "Python 3",
   "language": "python",
   "name": "python3"
  },
  "language_info": {
   "codemirror_mode": {
    "name": "ipython",
    "version": 3
   },
   "file_extension": ".py",
   "mimetype": "text/x-python",
   "name": "python",
   "nbconvert_exporter": "python",
   "pygments_lexer": "ipython3",
   "version": "3.6.8"
  },
  "widgets": {
   "state": {},
   "version": "1.1.2"
  }
 },
 "nbformat": 4,
 "nbformat_minor": 2
}
