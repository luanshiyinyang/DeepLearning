{
 "cells": [
  {
   "cell_type": "code",
   "execution_count": 1,
   "metadata": {},
   "outputs": [],
   "source": [
    "import unidecode\n",
    "import string\n",
    "import random\n",
    "import math\n",
    "\n",
    "import torch\n",
    "import torch.nn as nn\n",
    "from torch.autograd import Variable"
   ]
  },
  {
   "cell_type": "code",
   "execution_count": 2,
   "metadata": {},
   "outputs": [
    {
     "name": "stdout",
     "output_type": "stream",
     "text": [
      "100\n"
     ]
    }
   ],
   "source": [
    "all_characters = string.printable\n",
    "input_size = len(all_characters)\n",
    "output_size = input_size\n",
    "print(input_size)"
   ]
  },
  {
   "cell_type": "code",
   "execution_count": 3,
   "metadata": {},
   "outputs": [],
   "source": [
    "n_steps = 2000\n",
    "batch_size = 512\n",
    "hidden_size = 100\n",
    "n_layers = 2\n",
    "learning_rate = 0.01\n",
    "len_text = 200\n",
    "print_every = 50"
   ]
  },
  {
   "cell_type": "code",
   "execution_count": 4,
   "metadata": {},
   "outputs": [],
   "source": [
    "filename = '../Data/obama.txt'\n",
    "data = unidecode.unidecode(open(filename).read())\n",
    "len_data = len(data)"
   ]
  },
  {
   "cell_type": "code",
   "execution_count": 5,
   "metadata": {},
   "outputs": [],
   "source": [
    "def char_to_tensor(string):\n",
    "    tensor = torch.zeros(len(string)).long()\n",
    "    for c in range(len(string)):\n",
    "        try:\n",
    "            tensor[c] = all_characters.index(string[c])\n",
    "        except:\n",
    "            continue\n",
    "    return tensor"
   ]
  },
  {
   "cell_type": "code",
   "execution_count": 6,
   "metadata": {},
   "outputs": [],
   "source": [
    "def batch_gen(length_text, batch_size):\n",
    "    X = torch.LongTensor(batch_size, length_text)\n",
    "    y = torch.LongTensor(batch_size, length_text)\n",
    "    for i in range(batch_size):\n",
    "        start_index = random.randint(0, len_data - length_text)\n",
    "        end_index = start_index + length_text + 1\n",
    "        text = data[start_index:end_index]\n",
    "        X[i] = char_to_tensor(text[:-1])\n",
    "        y[i] = char_to_tensor(text[1:])\n",
    "    X = Variable(X)\n",
    "    y = Variable(y)\n",
    "    X = X.cuda()\n",
    "    y = y.cuda()\n",
    "    return X, y"
   ]
  },
  {
   "cell_type": "code",
   "execution_count": 7,
   "metadata": {},
   "outputs": [],
   "source": [
    "class create_model(nn.Module):\n",
    "    def __init__(self, input_size, hidden_size, output_size, n_layers=1):\n",
    "        super(create_model, self).__init__()\n",
    "        self.input_size = input_size\n",
    "        self.hidden_size = hidden_size\n",
    "        self.output_size = output_size\n",
    "        self.n_layers = n_layers\n",
    "\n",
    "        self.encoder = nn.Embedding(input_size, hidden_size)\n",
    "        self.rnn = nn.GRU(hidden_size, hidden_size, n_layers)\n",
    "        self.decoder = nn.Linear(hidden_size, output_size)\n",
    "\n",
    "    def forward(self, input, hidden):\n",
    "        batch_size = input.size(0)\n",
    "        encoded = self.encoder(input)\n",
    "        output, hidden = self.rnn(encoded.view(1, batch_size, -1), hidden)\n",
    "        output = self.decoder(output.view(batch_size, -1))\n",
    "        return output, hidden\n",
    "\n",
    "    def init_hidden(self, batch_size):\n",
    "        return Variable(torch.zeros(self.n_layers, batch_size, self.hidden_size))\n"
   ]
  },
  {
   "cell_type": "code",
   "execution_count": 9,
   "metadata": {},
   "outputs": [
    {
     "data": {
      "text/plain": [
       "create_model (\n",
       "  (encoder): Embedding(100, 100)\n",
       "  (rnn): GRU(100, 100, num_layers=2)\n",
       "  (decoder): Linear (100 -> 100)\n",
       ")"
      ]
     },
     "execution_count": 9,
     "metadata": {},
     "output_type": "execute_result"
    }
   ],
   "source": [
    "decoder_model = create_model(\n",
    "    input_size,\n",
    "    hidden_size,\n",
    "    output_size,\n",
    "    n_layers=n_layers,\n",
    ")\n",
    "\n",
    "opt = torch.optim.Adam(decoder_model.parameters(), lr=learning_rate)\n",
    "loss = nn.CrossEntropyLoss()\n",
    "decoder_model.cuda()"
   ]
  },
  {
   "cell_type": "code",
   "execution_count": 10,
   "metadata": {},
   "outputs": [],
   "source": [
    "def generate_text(decoder, start='The', predict_len=100):\n",
    "    hidden = decoder.init_hidden(1).cuda()\n",
    "    prime_input = Variable(char_to_tensor(start).unsqueeze(0)).cuda()\n",
    "    predicted = start\n",
    "\n",
    "    for p in range(len(start) - 1):\n",
    "        _, hidden = decoder(prime_input[:, p], hidden)\n",
    "        \n",
    "    x = prime_input[:,-1]\n",
    "    \n",
    "    for p in range(predict_len):\n",
    "        output, hidden = decoder(x, hidden)\n",
    "        output_dist = output.data.view(-1).div(0.8).exp()\n",
    "        # Add some randomness\n",
    "        top_i = torch.multinomial(output_dist, 1)[0]\n",
    "        predicted_char = all_characters[top_i]\n",
    "        predicted += predicted_char\n",
    "        x = Variable(char_to_tensor(predicted_char).unsqueeze(0)).cuda()\n",
    "    return predicted"
   ]
  },
  {
   "cell_type": "code",
   "execution_count": 11,
   "metadata": {},
   "outputs": [
    {
     "name": "stdout",
     "output_type": "stream",
     "text": [
      "Epoch 0: loss 4.601166687011719\n",
      "Y{zHX2G!PDCP_k0@9vbrTy`y3t^\tu/b:<Xz,Jhrw!g\",C\t%hz mWh\n",
      "\n",
      "Epoch 50: loss 129.82943481445315\n",
      "The incy to mind have of ture the that be pare hor whas menaring it therast perdertions the and in mane \n",
      "\n",
      "Epoch 100: loss 223.73026443481436\n",
      "The secure, I unstorich to have in that cound this as cruration in the by mathout a party, have the bas \n",
      "\n",
      "Epoch 150: loss 304.88177886962853\n",
      "There but and the memple polinizator eefforge deterated simus our government because of the problem an  \n",
      "\n",
      "Epoch 200: loss 380.0532673645016\n",
      "The finary and less securing on the time of your process the young for a hoiser of the some to complete \n",
      "\n",
      "Epoch 250: loss 451.83719955444315\n",
      "There it is a country from health care for politics can going to move away against more and they is kno \n",
      "\n",
      "Epoch 300: loss 521.4999079895017\n",
      "The people as the world that the standing a man warming-to they classing this simple the\n",
      " individual pr \n",
      "\n"
     ]
    },
    {
     "ename": "RuntimeError",
     "evalue": "inconsistent tensor size, expected tensor [200] and src [199] to have the same number of elements, but got 200 and 199 elements respectively at /opt/conda/conda-bld/pytorch_1503968623488/work/torch/lib/TH/generic/THTensorCopy.c:86",
     "output_type": "error",
     "traceback": [
      "\u001b[0;31m---------------------------------------------------------------------------\u001b[0m",
      "\u001b[0;31mRuntimeError\u001b[0m                              Traceback (most recent call last)",
      "\u001b[0;32m<ipython-input-11-cc1064d7e469>\u001b[0m in \u001b[0;36m<module>\u001b[0;34m()\u001b[0m\n\u001b[1;32m      2\u001b[0m \u001b[0;34m\u001b[0m\u001b[0m\n\u001b[1;32m      3\u001b[0m \u001b[0;32mfor\u001b[0m \u001b[0mi\u001b[0m \u001b[0;32min\u001b[0m \u001b[0mrange\u001b[0m\u001b[0;34m(\u001b[0m\u001b[0mn_epochs\u001b[0m\u001b[0;34m)\u001b[0m\u001b[0;34m:\u001b[0m\u001b[0;34m\u001b[0m\u001b[0m\n\u001b[0;32m----> 4\u001b[0;31m     \u001b[0mX\u001b[0m\u001b[0;34m,\u001b[0m \u001b[0my\u001b[0m \u001b[0;34m=\u001b[0m \u001b[0mtraining_batch\u001b[0m\u001b[0;34m(\u001b[0m\u001b[0mlen_text\u001b[0m\u001b[0;34m,\u001b[0m \u001b[0mbatch_size\u001b[0m\u001b[0;34m)\u001b[0m\u001b[0;34m\u001b[0m\u001b[0m\n\u001b[0m\u001b[1;32m      5\u001b[0m     \u001b[0mhidden\u001b[0m \u001b[0;34m=\u001b[0m \u001b[0mdecoder_model\u001b[0m\u001b[0;34m.\u001b[0m\u001b[0minit_hidden\u001b[0m\u001b[0;34m(\u001b[0m\u001b[0mbatch_size\u001b[0m\u001b[0;34m)\u001b[0m\u001b[0;34m.\u001b[0m\u001b[0mcuda\u001b[0m\u001b[0;34m(\u001b[0m\u001b[0;34m)\u001b[0m\u001b[0;34m\u001b[0m\u001b[0m\n\u001b[1;32m      6\u001b[0m     \u001b[0mdecoder_model\u001b[0m\u001b[0;34m.\u001b[0m\u001b[0mzero_grad\u001b[0m\u001b[0;34m(\u001b[0m\u001b[0;34m)\u001b[0m\u001b[0;34m\u001b[0m\u001b[0m\n",
      "\u001b[0;32m<ipython-input-6-faa066f537f2>\u001b[0m in \u001b[0;36mtraining_batch\u001b[0;34m(length_text, batch_size)\u001b[0m\n\u001b[1;32m      6\u001b[0m         \u001b[0mend_index\u001b[0m \u001b[0;34m=\u001b[0m \u001b[0mstart_index\u001b[0m \u001b[0;34m+\u001b[0m \u001b[0mlength_text\u001b[0m \u001b[0;34m+\u001b[0m \u001b[0;36m1\u001b[0m\u001b[0;34m\u001b[0m\u001b[0m\n\u001b[1;32m      7\u001b[0m         \u001b[0mtext\u001b[0m \u001b[0;34m=\u001b[0m \u001b[0mdata\u001b[0m\u001b[0;34m[\u001b[0m\u001b[0mstart_index\u001b[0m\u001b[0;34m:\u001b[0m\u001b[0mend_index\u001b[0m\u001b[0;34m]\u001b[0m\u001b[0;34m\u001b[0m\u001b[0m\n\u001b[0;32m----> 8\u001b[0;31m         \u001b[0mX\u001b[0m\u001b[0;34m[\u001b[0m\u001b[0mi\u001b[0m\u001b[0;34m]\u001b[0m \u001b[0;34m=\u001b[0m \u001b[0mchar_to_tensor\u001b[0m\u001b[0;34m(\u001b[0m\u001b[0mtext\u001b[0m\u001b[0;34m[\u001b[0m\u001b[0;34m:\u001b[0m\u001b[0;34m-\u001b[0m\u001b[0;36m1\u001b[0m\u001b[0;34m]\u001b[0m\u001b[0;34m)\u001b[0m\u001b[0;34m\u001b[0m\u001b[0m\n\u001b[0m\u001b[1;32m      9\u001b[0m         \u001b[0my\u001b[0m\u001b[0;34m[\u001b[0m\u001b[0mi\u001b[0m\u001b[0;34m]\u001b[0m \u001b[0;34m=\u001b[0m \u001b[0mchar_to_tensor\u001b[0m\u001b[0;34m(\u001b[0m\u001b[0mtext\u001b[0m\u001b[0;34m[\u001b[0m\u001b[0;36m1\u001b[0m\u001b[0;34m:\u001b[0m\u001b[0;34m]\u001b[0m\u001b[0;34m)\u001b[0m\u001b[0;34m\u001b[0m\u001b[0m\n\u001b[1;32m     10\u001b[0m     \u001b[0mX\u001b[0m \u001b[0;34m=\u001b[0m \u001b[0mVariable\u001b[0m\u001b[0;34m(\u001b[0m\u001b[0mX\u001b[0m\u001b[0;34m)\u001b[0m\u001b[0;34m\u001b[0m\u001b[0m\n",
      "\u001b[0;31mRuntimeError\u001b[0m: inconsistent tensor size, expected tensor [200] and src [199] to have the same number of elements, but got 200 and 199 elements respectively at /opt/conda/conda-bld/pytorch_1503968623488/work/torch/lib/TH/generic/THTensorCopy.c:86"
     ]
    }
   ],
   "source": [
    "loss_avg = 0\n",
    "\n",
    "for i in range(n_steps):\n",
    "    X, y = batch_gen(len_text, batch_size)\n",
    "    hidden = decoder_model.init_hidden(batch_size).cuda()\n",
    "    decoder_model.zero_grad()\n",
    "    loss_total = 0\n",
    "\n",
    "    for c in range(len_text):\n",
    "        output, hidden = decoder_model(X[:,c], hidden)\n",
    "        loss_total += loss(output.view(batch_size, -1), y[:,c])\n",
    "\n",
    "    loss_total.backward()\n",
    "    opt.step()\n",
    "    loss_value = loss_total.data[0] / len_text\n",
    "    \n",
    "    loss_avg += loss_value\n",
    "\n",
    "    if i % print_every == 0:\n",
    "        print('Epoch {}: loss {}'.format(i, loss_avg))\n",
    "        print(generate_text(decoder_model, 'The', 100), '\\n')"
   ]
  }
 ],
 "metadata": {
  "kernelspec": {
   "display_name": "Python 3",
   "language": "python",
   "name": "python3"
  },
  "language_info": {
   "codemirror_mode": {
    "name": "ipython",
    "version": 3
   },
   "file_extension": ".py",
   "mimetype": "text/x-python",
   "name": "python",
   "nbconvert_exporter": "python",
   "pygments_lexer": "ipython3",
   "version": "3.6.8"
  },
  "widgets": {
   "state": {},
   "version": "1.1.2"
  }
 },
 "nbformat": 4,
 "nbformat_minor": 2
}
