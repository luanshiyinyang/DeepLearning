{
 "cells": [
  {
   "cell_type": "code",
   "execution_count": null,
   "metadata": {},
   "outputs": [],
   "source": [
    "import matplotlib.pyplot as plt\n",
    "import numpy as np\n",
    "import pandas as pd\n",
    "from sklearn.preprocessing import MinMaxScaler\n",
    "\n",
    "from keras.layers.core import Dense, Activation, Dropout\n",
    "from keras.layers.recurrent import LSTM\n",
    "from keras.models import Sequential"
   ]
  },
  {
   "cell_type": "code",
   "execution_count": null,
   "metadata": {},
   "outputs": [],
   "source": [
    "# Data at https://ca.finance.yahoo.com/quote/%5EIXIC/, you can replace it with any other index or stock"
   ]
  },
  {
   "cell_type": "code",
   "execution_count": null,
   "metadata": {},
   "outputs": [],
   "source": [
    "data = pd.read_csv('../Data/stock-data-2000-2017.csv')\n",
    "data = data[['Open', 'High', 'Low', 'Volume', 'Close']]\n",
    "data.head()"
   ]
  },
  {
   "cell_type": "code",
   "execution_count": null,
   "metadata": {},
   "outputs": [],
   "source": [
    "sequence_length = 21\n",
    "n_features = len(data.columns)\n",
    "val_ratio = 0.1\n",
    "n_epochs = 300\n",
    "batch_size = 512"
   ]
  },
  {
   "cell_type": "code",
   "execution_count": null,
   "metadata": {},
   "outputs": [],
   "source": [
    "data = data.as_matrix()\n",
    "data_processed = []\n",
    "for index in range(len(data) - sequence_length):\n",
    "    data_processed.append(data[index : index + sequence_length])\n",
    "data_processed = np.array(data_processed)"
   ]
  },
  {
   "cell_type": "code",
   "execution_count": null,
   "metadata": {},
   "outputs": [],
   "source": [
    "val_split = round((1-val_ratio) * data_processed.shape[0])\n",
    "train = data_processed[: int(val_split), :]\n",
    "val = data_processed[int(val_split) :, :]\n",
    "\n",
    "print('Training data: {}'.format(train.shape))\n",
    "print('Validation data: {}'.format(val.shape))"
   ]
  },
  {
   "cell_type": "code",
   "execution_count": null,
   "metadata": {},
   "outputs": [],
   "source": [
    "train_samples, train_nx, train_ny = train.shape\n",
    "val_samples, val_nx, val_ny = val.shape\n",
    "\n",
    "train = train.reshape((train_samples, train_nx * train_ny))\n",
    "val = val.reshape((val_samples, val_nx * val_ny))\n",
    "\n",
    "preprocessor = MinMaxScaler().fit(train)\n",
    "train = preprocessor.transform(train)\n",
    "val = preprocessor.transform(val)\n",
    "\n",
    "train = train.reshape((train_samples, train_nx, train_ny))\n",
    "val = val.reshape((val_samples, val_nx, val_ny))"
   ]
  },
  {
   "cell_type": "code",
   "execution_count": null,
   "metadata": {},
   "outputs": [],
   "source": [
    "X_train = train[:, : -1]\n",
    "y_train = train[:, -1][: ,-1]\n",
    "X_val = val[:, : -1]\n",
    "y_val = val[:, -1][ : ,-1]\n",
    "\n",
    "X_train = np.reshape(X_train, (X_train.shape[0], X_train.shape[1], n_features))\n",
    "X_val = np.reshape(X_val, (X_val.shape[0], X_val.shape[1], n_features))"
   ]
  },
  {
   "cell_type": "code",
   "execution_count": null,
   "metadata": {},
   "outputs": [],
   "source": [
    "model = Sequential()\n",
    "model.add(LSTM(input_shape=(X_train.shape[1:]), units = 128, return_sequences=True))\n",
    "model.add(Dropout(0.5))\n",
    "model.add(LSTM(128, return_sequences=False))\n",
    "model.add(Dropout(0.25))\n",
    "model.add(Dense(units=1))\n",
    "model.add(Activation(\"linear\"))\n",
    "\n",
    "model.compile(loss=\"mse\", optimizer=\"adam\")"
   ]
  },
  {
   "cell_type": "code",
   "execution_count": null,
   "metadata": {},
   "outputs": [],
   "source": [
    "history = model.fit(\n",
    "    X_train,\n",
    "    y_train,\n",
    "    batch_size=batch_size,\n",
    "    epochs=n_epochs,\n",
    "    verbose=1\n",
    "    )"
   ]
  },
  {
   "cell_type": "code",
   "execution_count": null,
   "metadata": {},
   "outputs": [],
   "source": [
    "preds_val = model.predict(X_val)\n",
    "diff = []\n",
    "for i in range(len(y_val)):\n",
    "    pred = preds_val[i][0]\n",
    "    diff.append(y_val[i] - pred)"
   ]
  },
  {
   "cell_type": "code",
   "execution_count": null,
   "metadata": {},
   "outputs": [],
   "source": [
    "real_min = preprocessor.data_min_[104]\n",
    "real_max = preprocessor.data_max_[104]\n",
    "print(preprocessor.data_min_[104])\n",
    "print(preprocessor.data_max_[104])\n",
    "\n",
    "preds_real = preds_val * (real_max - real_min) + real_min\n",
    "y_val_real = y_val * (real_max - real_min) + real_min"
   ]
  },
  {
   "cell_type": "code",
   "execution_count": null,
   "metadata": {},
   "outputs": [],
   "source": [
    "plt.plot(preds_real, label='Predictions')\n",
    "plt.plot(y_val_real, label='Actual values')\n",
    "plt.xlabel('test')\n",
    "plt.legend(loc=0)\n",
    "plt.show()"
   ]
  }
 ],
 "metadata": {
  "kernelspec": {
   "display_name": "Python 3",
   "language": "python",
   "name": "python3"
  },
  "language_info": {
   "codemirror_mode": {
    "name": "ipython",
    "version": 3
   },
   "file_extension": ".py",
   "mimetype": "text/x-python",
   "name": "python",
   "nbconvert_exporter": "python",
   "pygments_lexer": "ipython3",
   "version": "3.6.8"
  },
  "widgets": {
   "state": {},
   "version": "1.1.2"
  }
 },
 "nbformat": 4,
 "nbformat_minor": 2
}
