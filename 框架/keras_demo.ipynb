{
 "cells": [
  {
   "cell_type": "code",
   "execution_count": 1,
   "metadata": {},
   "outputs": [
    {
     "name": "stderr",
     "output_type": "stream",
     "text": [
      "Using TensorFlow backend.\n"
     ]
    }
   ],
   "source": [
    "from keras.models import Sequential\n",
    "from keras.layers import Dense"
   ]
  },
  {
   "cell_type": "code",
   "execution_count": 2,
   "metadata": {},
   "outputs": [],
   "source": [
    "import numpy as np\n",
    "x_input = np.array([[1, 2, 3, 4, 5]])\n",
    "y_input = np.array([[10]])"
   ]
  },
  {
   "cell_type": "code",
   "execution_count": 3,
   "metadata": {},
   "outputs": [],
   "source": [
    "model = Sequential()\n",
    "model.add(Dense(units=32, input_dim=x_input.shape[1]))\n",
    "model.add(Dense(units=1))"
   ]
  },
  {
   "cell_type": "code",
   "execution_count": 4,
   "metadata": {},
   "outputs": [],
   "source": [
    "model.compile(loss='mse',\n",
    "             optimizer='sgd',\n",
    "             metrics=['accuracy'])"
   ]
  },
  {
   "cell_type": "code",
   "execution_count": 5,
   "metadata": {},
   "outputs": [
    {
     "name": "stdout",
     "output_type": "stream",
     "text": [
      "_________________________________________________________________\n",
      "Layer (type)                 Output Shape              Param #   \n",
      "=================================================================\n",
      "dense_1 (Dense)              (None, 32)                192       \n",
      "_________________________________________________________________\n",
      "dense_2 (Dense)              (None, 1)                 33        \n",
      "=================================================================\n",
      "Total params: 225\n",
      "Trainable params: 225\n",
      "Non-trainable params: 0\n",
      "_________________________________________________________________\n"
     ]
    }
   ],
   "source": [
    "model.summary()"
   ]
  },
  {
   "cell_type": "code",
   "execution_count": 6,
   "metadata": {},
   "outputs": [
    {
     "name": "stdout",
     "output_type": "stream",
     "text": [
      "Epoch 1/10\n",
      "1/1 [==============================] - 0s 459ms/step - loss: 48.9001 - acc: 0.0000e+00\n",
      "Epoch 2/10\n",
      "1/1 [==============================] - 0s 2ms/step - loss: 2144.2153 - acc: 0.0000e+00\n",
      "Epoch 3/10\n",
      "1/1 [==============================] - 0s 4ms/step - loss: 3431307.2500 - acc: 0.0000e+00\n",
      "Epoch 4/10\n",
      "1/1 [==============================] - 0s 2ms/step - loss: 20133275527806976.0000 - acc: 0.0000e+00\n",
      "Epoch 5/10\n",
      "1/1 [==============================] - 0s 2ms/step - loss: inf - acc: 0.0000e+00\n",
      "Epoch 6/10\n",
      "1/1 [==============================] - 0s 3ms/step - loss: nan - acc: 0.0000e+00\n",
      "Epoch 7/10\n",
      "1/1 [==============================] - 0s 2ms/step - loss: nan - acc: 0.0000e+00\n",
      "Epoch 8/10\n",
      "1/1 [==============================] - 0s 4ms/step - loss: nan - acc: 0.0000e+00\n",
      "Epoch 9/10\n",
      "1/1 [==============================] - 0s 2ms/step - loss: nan - acc: 0.0000e+00\n",
      "Epoch 10/10\n",
      "1/1 [==============================] - 0s 2ms/step - loss: nan - acc: 0.0000e+00\n"
     ]
    }
   ],
   "source": [
    "history = model.fit(x_input, y_input, epochs=10, batch_size=32)"
   ]
  },
  {
   "cell_type": "code",
   "execution_count": 7,
   "metadata": {},
   "outputs": [],
   "source": [
    "pred = model.predict(x_input, batch_size=128)"
   ]
  },
  {
   "cell_type": "code",
   "execution_count": 8,
   "metadata": {},
   "outputs": [
    {
     "name": "stdout",
     "output_type": "stream",
     "text": [
      "[[nan]]\n"
     ]
    }
   ],
   "source": [
    "print(pred)"
   ]
  },
  {
   "cell_type": "code",
   "execution_count": null,
   "metadata": {},
   "outputs": [],
   "source": []
  }
 ],
 "metadata": {
  "kernelspec": {
   "display_name": "Python 3",
   "language": "python",
   "name": "python3"
  },
  "language_info": {
   "codemirror_mode": {
    "name": "ipython",
    "version": 3
   },
   "file_extension": ".py",
   "mimetype": "text/x-python",
   "name": "python",
   "nbconvert_exporter": "python",
   "pygments_lexer": "ipython3",
   "version": "3.6.8"
  }
 },
 "nbformat": 4,
 "nbformat_minor": 2
}
